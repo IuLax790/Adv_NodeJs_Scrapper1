{
 "cells": [
  {
   "cell_type": "code",
   "execution_count": 1,
   "id": "76067fc3",
   "metadata": {
    "_cell_guid": "b1076dfc-b9ad-4769-8c92-a6c4dae69d19",
    "_uuid": "8f2839f25d086af736a60e9eeb907d3b93b6e0e5",
    "execution": {
     "iopub.execute_input": "2023-02-20T21:57:47.952356Z",
     "iopub.status.busy": "2023-02-20T21:57:47.951717Z",
     "iopub.status.idle": "2023-02-20T21:57:47.972311Z",
     "shell.execute_reply": "2023-02-20T21:57:47.971427Z"
    },
    "papermill": {
     "duration": 0.033639,
     "end_time": "2023-02-20T21:57:47.975172",
     "exception": false,
     "start_time": "2023-02-20T21:57:47.941533",
     "status": "completed"
    },
    "tags": []
   },
   "outputs": [
    {
     "name": "stdout",
     "output_type": "stream",
     "text": [
      "/kaggle/input/significant-earthquake-dataset-1900-2023/Significant Earthquake Dataset 1900-2023.csv\n"
     ]
    }
   ],
   "source": [
    "# This Python 3 environment comes with many helpful analytics libraries installed\n",
    "# It is defined by the kaggle/python Docker image: https://github.com/kaggle/docker-python\n",
    "# For example, here's several helpful packages to load\n",
    "\n",
    "import numpy as np # linear algebra\n",
    "import pandas as pd # data processing, CSV file I/O (e.g. pd.read_csv)\n",
    "import pickle\n",
    "from pathlib import Path\n",
    "import os\n",
    "\n",
    "    \n",
    "\n",
    "for dirname, _, filenames in os.walk(\"/kaggle/input\"):\n",
    "    for filename in filenames:\n",
    "        print(os.path.join(dirname, filename))"
   ]
  },
  {
   "cell_type": "code",
   "execution_count": 2,
   "id": "c682cf4c",
   "metadata": {
    "execution": {
     "iopub.execute_input": "2023-02-20T21:57:47.986889Z",
     "iopub.status.busy": "2023-02-20T21:57:47.986490Z",
     "iopub.status.idle": "2023-02-20T21:57:48.384248Z",
     "shell.execute_reply": "2023-02-20T21:57:48.383165Z"
    },
    "papermill": {
     "duration": 0.406443,
     "end_time": "2023-02-20T21:57:48.386715",
     "exception": false,
     "start_time": "2023-02-20T21:57:47.980272",
     "status": "completed"
    },
    "tags": []
   },
   "outputs": [
    {
     "data": {
      "text/html": [
       "<div>\n",
       "<style scoped>\n",
       "    .dataframe tbody tr th:only-of-type {\n",
       "        vertical-align: middle;\n",
       "    }\n",
       "\n",
       "    .dataframe tbody tr th {\n",
       "        vertical-align: top;\n",
       "    }\n",
       "\n",
       "    .dataframe thead th {\n",
       "        text-align: right;\n",
       "    }\n",
       "</style>\n",
       "<table border=\"1\" class=\"dataframe\">\n",
       "  <thead>\n",
       "    <tr style=\"text-align: right;\">\n",
       "      <th></th>\n",
       "      <th>Time</th>\n",
       "      <th>Place</th>\n",
       "      <th>Latitude</th>\n",
       "      <th>Longitude</th>\n",
       "      <th>Depth</th>\n",
       "      <th>Mag</th>\n",
       "      <th>MagType</th>\n",
       "      <th>nst</th>\n",
       "      <th>gap</th>\n",
       "      <th>dmin</th>\n",
       "      <th>...</th>\n",
       "      <th>Updated</th>\n",
       "      <th>Unnamed: 14</th>\n",
       "      <th>Type</th>\n",
       "      <th>horizontalError</th>\n",
       "      <th>depthError</th>\n",
       "      <th>magError</th>\n",
       "      <th>magNst</th>\n",
       "      <th>status</th>\n",
       "      <th>locationSource</th>\n",
       "      <th>magSource</th>\n",
       "    </tr>\n",
       "  </thead>\n",
       "  <tbody>\n",
       "    <tr>\n",
       "      <th>0</th>\n",
       "      <td>2023-02-17T09:37:34.868Z</td>\n",
       "      <td>130 km SW of Tual, Indonesia</td>\n",
       "      <td>-6.5986</td>\n",
       "      <td>132.0763</td>\n",
       "      <td>38.615</td>\n",
       "      <td>6.10</td>\n",
       "      <td>mww</td>\n",
       "      <td>119.0</td>\n",
       "      <td>51.0</td>\n",
       "      <td>2.988</td>\n",
       "      <td>...</td>\n",
       "      <td>2023-02-17T17:58:24.040Z</td>\n",
       "      <td>NaN</td>\n",
       "      <td>earthquake</td>\n",
       "      <td>6.41</td>\n",
       "      <td>5.595</td>\n",
       "      <td>0.065</td>\n",
       "      <td>23.0</td>\n",
       "      <td>reviewed</td>\n",
       "      <td>us</td>\n",
       "      <td>us</td>\n",
       "    </tr>\n",
       "    <tr>\n",
       "      <th>1</th>\n",
       "      <td>2023-02-16T05:37:05.138Z</td>\n",
       "      <td>7 km SW of Port-Olry, Vanuatu</td>\n",
       "      <td>-15.0912</td>\n",
       "      <td>167.0294</td>\n",
       "      <td>36.029</td>\n",
       "      <td>5.60</td>\n",
       "      <td>mww</td>\n",
       "      <td>81.0</td>\n",
       "      <td>26.0</td>\n",
       "      <td>0.392</td>\n",
       "      <td>...</td>\n",
       "      <td>2023-02-17T05:41:32.448Z</td>\n",
       "      <td>NaN</td>\n",
       "      <td>earthquake</td>\n",
       "      <td>5.99</td>\n",
       "      <td>6.080</td>\n",
       "      <td>0.073</td>\n",
       "      <td>18.0</td>\n",
       "      <td>reviewed</td>\n",
       "      <td>us</td>\n",
       "      <td>us</td>\n",
       "    </tr>\n",
       "    <tr>\n",
       "      <th>2</th>\n",
       "      <td>2023-02-15T18:10:10.060Z</td>\n",
       "      <td>Masbate region, Philippines</td>\n",
       "      <td>12.3238</td>\n",
       "      <td>123.8662</td>\n",
       "      <td>20.088</td>\n",
       "      <td>6.10</td>\n",
       "      <td>mww</td>\n",
       "      <td>148.0</td>\n",
       "      <td>47.0</td>\n",
       "      <td>5.487</td>\n",
       "      <td>...</td>\n",
       "      <td>2023-02-16T20:12:32.595Z</td>\n",
       "      <td>NaN</td>\n",
       "      <td>earthquake</td>\n",
       "      <td>8.61</td>\n",
       "      <td>4.399</td>\n",
       "      <td>0.037</td>\n",
       "      <td>71.0</td>\n",
       "      <td>reviewed</td>\n",
       "      <td>us</td>\n",
       "      <td>us</td>\n",
       "    </tr>\n",
       "    <tr>\n",
       "      <th>3</th>\n",
       "      <td>2023-02-15T06:38:09.034Z</td>\n",
       "      <td>54 km WNW of Otaki, New Zealand</td>\n",
       "      <td>-40.5465</td>\n",
       "      <td>174.5709</td>\n",
       "      <td>74.320</td>\n",
       "      <td>5.70</td>\n",
       "      <td>mww</td>\n",
       "      <td>81.0</td>\n",
       "      <td>40.0</td>\n",
       "      <td>0.768</td>\n",
       "      <td>...</td>\n",
       "      <td>2023-02-16T06:42:09.738Z</td>\n",
       "      <td>NaN</td>\n",
       "      <td>earthquake</td>\n",
       "      <td>3.68</td>\n",
       "      <td>4.922</td>\n",
       "      <td>0.065</td>\n",
       "      <td>23.0</td>\n",
       "      <td>reviewed</td>\n",
       "      <td>us</td>\n",
       "      <td>us</td>\n",
       "    </tr>\n",
       "    <tr>\n",
       "      <th>4</th>\n",
       "      <td>2023-02-14T13:16:51.072Z</td>\n",
       "      <td>2 km NW of Lele?ti, Romania</td>\n",
       "      <td>45.1126</td>\n",
       "      <td>23.1781</td>\n",
       "      <td>10.000</td>\n",
       "      <td>5.60</td>\n",
       "      <td>mww</td>\n",
       "      <td>132.0</td>\n",
       "      <td>28.0</td>\n",
       "      <td>1.197</td>\n",
       "      <td>...</td>\n",
       "      <td>2023-02-17T09:15:18.586Z</td>\n",
       "      <td>NaN</td>\n",
       "      <td>earthquake</td>\n",
       "      <td>4.85</td>\n",
       "      <td>1.794</td>\n",
       "      <td>0.032</td>\n",
       "      <td>95.0</td>\n",
       "      <td>reviewed</td>\n",
       "      <td>us</td>\n",
       "      <td>us</td>\n",
       "    </tr>\n",
       "    <tr>\n",
       "      <th>...</th>\n",
       "      <td>...</td>\n",
       "      <td>...</td>\n",
       "      <td>...</td>\n",
       "      <td>...</td>\n",
       "      <td>...</td>\n",
       "      <td>...</td>\n",
       "      <td>...</td>\n",
       "      <td>...</td>\n",
       "      <td>...</td>\n",
       "      <td>...</td>\n",
       "      <td>...</td>\n",
       "      <td>...</td>\n",
       "      <td>...</td>\n",
       "      <td>...</td>\n",
       "      <td>...</td>\n",
       "      <td>...</td>\n",
       "      <td>...</td>\n",
       "      <td>...</td>\n",
       "      <td>...</td>\n",
       "      <td>...</td>\n",
       "      <td>...</td>\n",
       "    </tr>\n",
       "    <tr>\n",
       "      <th>37326</th>\n",
       "      <td>1902-01-01T05:20:30.000Z</td>\n",
       "      <td>113 km ESE of Nikolski, Alaska</td>\n",
       "      <td>52.3800</td>\n",
       "      <td>-167.4500</td>\n",
       "      <td>NaN</td>\n",
       "      <td>7.00</td>\n",
       "      <td>ms</td>\n",
       "      <td>NaN</td>\n",
       "      <td>NaN</td>\n",
       "      <td>NaN</td>\n",
       "      <td>...</td>\n",
       "      <td>2018-06-04T20:43:44.000Z</td>\n",
       "      <td>NaN</td>\n",
       "      <td>earthquake</td>\n",
       "      <td>NaN</td>\n",
       "      <td>NaN</td>\n",
       "      <td>NaN</td>\n",
       "      <td>NaN</td>\n",
       "      <td>reviewed</td>\n",
       "      <td>ushis</td>\n",
       "      <td>abe</td>\n",
       "    </tr>\n",
       "    <tr>\n",
       "      <th>37327</th>\n",
       "      <td>1901-12-31T09:02:30.000Z</td>\n",
       "      <td>221 km SW of Nikolski, Alaska</td>\n",
       "      <td>51.4500</td>\n",
       "      <td>-171.0200</td>\n",
       "      <td>NaN</td>\n",
       "      <td>7.10</td>\n",
       "      <td>ms</td>\n",
       "      <td>NaN</td>\n",
       "      <td>NaN</td>\n",
       "      <td>NaN</td>\n",
       "      <td>...</td>\n",
       "      <td>2018-06-04T20:43:44.000Z</td>\n",
       "      <td>NaN</td>\n",
       "      <td>earthquake</td>\n",
       "      <td>NaN</td>\n",
       "      <td>NaN</td>\n",
       "      <td>NaN</td>\n",
       "      <td>NaN</td>\n",
       "      <td>reviewed</td>\n",
       "      <td>ushis</td>\n",
       "      <td>abe</td>\n",
       "    </tr>\n",
       "    <tr>\n",
       "      <th>37328</th>\n",
       "      <td>1901-12-30T22:34:00.000Z</td>\n",
       "      <td>south of Alaska</td>\n",
       "      <td>52.0000</td>\n",
       "      <td>-160.0000</td>\n",
       "      <td>NaN</td>\n",
       "      <td>7.00</td>\n",
       "      <td>ms</td>\n",
       "      <td>NaN</td>\n",
       "      <td>NaN</td>\n",
       "      <td>NaN</td>\n",
       "      <td>...</td>\n",
       "      <td>2018-06-04T20:43:44.000Z</td>\n",
       "      <td>NaN</td>\n",
       "      <td>earthquake</td>\n",
       "      <td>NaN</td>\n",
       "      <td>NaN</td>\n",
       "      <td>NaN</td>\n",
       "      <td>NaN</td>\n",
       "      <td>reviewed</td>\n",
       "      <td>ushis</td>\n",
       "      <td>abe</td>\n",
       "    </tr>\n",
       "    <tr>\n",
       "      <th>37329</th>\n",
       "      <td>1901-03-03T07:45:00.000Z</td>\n",
       "      <td>12 km NNW of Parkfield, California</td>\n",
       "      <td>36.0000</td>\n",
       "      <td>-120.5000</td>\n",
       "      <td>NaN</td>\n",
       "      <td>6.40</td>\n",
       "      <td>ms</td>\n",
       "      <td>NaN</td>\n",
       "      <td>NaN</td>\n",
       "      <td>NaN</td>\n",
       "      <td>...</td>\n",
       "      <td>2018-06-04T20:43:44.000Z</td>\n",
       "      <td>NaN</td>\n",
       "      <td>earthquake</td>\n",
       "      <td>NaN</td>\n",
       "      <td>NaN</td>\n",
       "      <td>NaN</td>\n",
       "      <td>NaN</td>\n",
       "      <td>reviewed</td>\n",
       "      <td>ushis</td>\n",
       "      <td>ell</td>\n",
       "    </tr>\n",
       "    <tr>\n",
       "      <th>37330</th>\n",
       "      <td>1900-10-09T12:25:00.000Z</td>\n",
       "      <td>16 km SW of Old Harbor, Alaska</td>\n",
       "      <td>57.0900</td>\n",
       "      <td>-153.4800</td>\n",
       "      <td>NaN</td>\n",
       "      <td>7.86</td>\n",
       "      <td>mw</td>\n",
       "      <td>NaN</td>\n",
       "      <td>NaN</td>\n",
       "      <td>NaN</td>\n",
       "      <td>...</td>\n",
       "      <td>2022-05-09T14:44:17.838Z</td>\n",
       "      <td>NaN</td>\n",
       "      <td>earthquake</td>\n",
       "      <td>NaN</td>\n",
       "      <td>NaN</td>\n",
       "      <td>NaN</td>\n",
       "      <td>NaN</td>\n",
       "      <td>reviewed</td>\n",
       "      <td>ushis</td>\n",
       "      <td>pt</td>\n",
       "    </tr>\n",
       "  </tbody>\n",
       "</table>\n",
       "<p>37331 rows × 23 columns</p>\n",
       "</div>"
      ],
      "text/plain": [
       "                           Time                               Place  Latitude  \\\n",
       "0      2023-02-17T09:37:34.868Z        130 km SW of Tual, Indonesia   -6.5986   \n",
       "1      2023-02-16T05:37:05.138Z       7 km SW of Port-Olry, Vanuatu  -15.0912   \n",
       "2      2023-02-15T18:10:10.060Z         Masbate region, Philippines   12.3238   \n",
       "3      2023-02-15T06:38:09.034Z     54 km WNW of Otaki, New Zealand  -40.5465   \n",
       "4      2023-02-14T13:16:51.072Z         2 km NW of Lele?ti, Romania   45.1126   \n",
       "...                         ...                                 ...       ...   \n",
       "37326  1902-01-01T05:20:30.000Z      113 km ESE of Nikolski, Alaska   52.3800   \n",
       "37327  1901-12-31T09:02:30.000Z       221 km SW of Nikolski, Alaska   51.4500   \n",
       "37328  1901-12-30T22:34:00.000Z                     south of Alaska   52.0000   \n",
       "37329  1901-03-03T07:45:00.000Z  12 km NNW of Parkfield, California   36.0000   \n",
       "37330  1900-10-09T12:25:00.000Z      16 km SW of Old Harbor, Alaska   57.0900   \n",
       "\n",
       "       Longitude   Depth   Mag MagType    nst   gap   dmin  ...  \\\n",
       "0       132.0763  38.615  6.10     mww  119.0  51.0  2.988  ...   \n",
       "1       167.0294  36.029  5.60     mww   81.0  26.0  0.392  ...   \n",
       "2       123.8662  20.088  6.10     mww  148.0  47.0  5.487  ...   \n",
       "3       174.5709  74.320  5.70     mww   81.0  40.0  0.768  ...   \n",
       "4        23.1781  10.000  5.60     mww  132.0  28.0  1.197  ...   \n",
       "...          ...     ...   ...     ...    ...   ...    ...  ...   \n",
       "37326  -167.4500     NaN  7.00      ms    NaN   NaN    NaN  ...   \n",
       "37327  -171.0200     NaN  7.10      ms    NaN   NaN    NaN  ...   \n",
       "37328  -160.0000     NaN  7.00      ms    NaN   NaN    NaN  ...   \n",
       "37329  -120.5000     NaN  6.40      ms    NaN   NaN    NaN  ...   \n",
       "37330  -153.4800     NaN  7.86      mw    NaN   NaN    NaN  ...   \n",
       "\n",
       "                        Updated Unnamed: 14        Type horizontalError  \\\n",
       "0      2023-02-17T17:58:24.040Z         NaN  earthquake            6.41   \n",
       "1      2023-02-17T05:41:32.448Z         NaN  earthquake            5.99   \n",
       "2      2023-02-16T20:12:32.595Z         NaN  earthquake            8.61   \n",
       "3      2023-02-16T06:42:09.738Z         NaN  earthquake            3.68   \n",
       "4      2023-02-17T09:15:18.586Z         NaN  earthquake            4.85   \n",
       "...                         ...         ...         ...             ...   \n",
       "37326  2018-06-04T20:43:44.000Z         NaN  earthquake             NaN   \n",
       "37327  2018-06-04T20:43:44.000Z         NaN  earthquake             NaN   \n",
       "37328  2018-06-04T20:43:44.000Z         NaN  earthquake             NaN   \n",
       "37329  2018-06-04T20:43:44.000Z         NaN  earthquake             NaN   \n",
       "37330  2022-05-09T14:44:17.838Z         NaN  earthquake             NaN   \n",
       "\n",
       "       depthError magError  magNst    status  locationSource  magSource  \n",
       "0           5.595    0.065    23.0  reviewed              us         us  \n",
       "1           6.080    0.073    18.0  reviewed              us         us  \n",
       "2           4.399    0.037    71.0  reviewed              us         us  \n",
       "3           4.922    0.065    23.0  reviewed              us         us  \n",
       "4           1.794    0.032    95.0  reviewed              us         us  \n",
       "...           ...      ...     ...       ...             ...        ...  \n",
       "37326         NaN      NaN     NaN  reviewed           ushis        abe  \n",
       "37327         NaN      NaN     NaN  reviewed           ushis        abe  \n",
       "37328         NaN      NaN     NaN  reviewed           ushis        abe  \n",
       "37329         NaN      NaN     NaN  reviewed           ushis        ell  \n",
       "37330         NaN      NaN     NaN  reviewed           ushis         pt  \n",
       "\n",
       "[37331 rows x 23 columns]"
      ]
     },
     "execution_count": 2,
     "metadata": {},
     "output_type": "execute_result"
    }
   ],
   "source": [
    "Earthquakes = pd.read_csv('/kaggle/input/significant-earthquake-dataset-1900-2023/Significant Earthquake Dataset 1900-2023.csv')\n",
    "Earthquakes"
   ]
  },
  {
   "cell_type": "code",
   "execution_count": 3,
   "id": "36e8117d",
   "metadata": {
    "execution": {
     "iopub.execute_input": "2023-02-20T21:57:48.399214Z",
     "iopub.status.busy": "2023-02-20T21:57:48.398392Z",
     "iopub.status.idle": "2023-02-20T21:57:48.411159Z",
     "shell.execute_reply": "2023-02-20T21:57:48.409787Z"
    },
    "papermill": {
     "duration": 0.021506,
     "end_time": "2023-02-20T21:57:48.413472",
     "exception": false,
     "start_time": "2023-02-20T21:57:48.391966",
     "status": "completed"
    },
    "tags": []
   },
   "outputs": [
    {
     "name": "stdout",
     "output_type": "stream",
     "text": [
      "Time                object\n",
      "Place               object\n",
      "Latitude           float64\n",
      "Longitude          float64\n",
      "Depth              float64\n",
      "Mag                float64\n",
      "MagType             object\n",
      "nst                float64\n",
      "gap                float64\n",
      "dmin               float64\n",
      "rms                float64\n",
      "net                 object\n",
      "ID                  object\n",
      "Updated             object\n",
      "Unnamed: 14        float64\n",
      "Type                object\n",
      "horizontalError    float64\n",
      "depthError         float64\n",
      "magError           float64\n",
      "magNst             float64\n",
      "status              object\n",
      "locationSource      object\n",
      "magSource           object\n",
      "dtype: object\n"
     ]
    }
   ],
   "source": [
    "print(Earthquakes.dtypes)\n",
    "Earthquakes = Earthquakes[['Time','Place','Latitude','Longitude','Mag']]"
   ]
  },
  {
   "cell_type": "code",
   "execution_count": 4,
   "id": "109172e0",
   "metadata": {
    "execution": {
     "iopub.execute_input": "2023-02-20T21:57:48.427969Z",
     "iopub.status.busy": "2023-02-20T21:57:48.427044Z",
     "iopub.status.idle": "2023-02-20T21:57:48.455836Z",
     "shell.execute_reply": "2023-02-20T21:57:48.454535Z"
    },
    "papermill": {
     "duration": 0.039593,
     "end_time": "2023-02-20T21:57:48.458800",
     "exception": false,
     "start_time": "2023-02-20T21:57:48.419207",
     "status": "completed"
    },
    "tags": []
   },
   "outputs": [
    {
     "name": "stderr",
     "output_type": "stream",
     "text": [
      "/opt/conda/lib/python3.7/site-packages/ipykernel_launcher.py:1: SettingWithCopyWarning: \n",
      "A value is trying to be set on a copy of a slice from a DataFrame.\n",
      "Try using .loc[row_indexer,col_indexer] = value instead\n",
      "\n",
      "See the caveats in the documentation: https://pandas.pydata.org/pandas-docs/stable/user_guide/indexing.html#returning-a-view-versus-a-copy\n",
      "  \"\"\"Entry point for launching an IPython kernel.\n"
     ]
    }
   ],
   "source": [
    "Earthquakes['Time'] = pd.to_datetime(Earthquakes['Time'])\n"
   ]
  },
  {
   "cell_type": "code",
   "execution_count": 5,
   "id": "26e16ad0",
   "metadata": {
    "execution": {
     "iopub.execute_input": "2023-02-20T21:57:48.471944Z",
     "iopub.status.busy": "2023-02-20T21:57:48.471092Z",
     "iopub.status.idle": "2023-02-20T21:57:48.482505Z",
     "shell.execute_reply": "2023-02-20T21:57:48.481360Z"
    },
    "papermill": {
     "duration": 0.020596,
     "end_time": "2023-02-20T21:57:48.484903",
     "exception": false,
     "start_time": "2023-02-20T21:57:48.464307",
     "status": "completed"
    },
    "tags": []
   },
   "outputs": [
    {
     "data": {
      "text/plain": [
       "0       2023-02-17 09:37:34.868000+00:00\n",
       "1       2023-02-16 05:37:05.138000+00:00\n",
       "2       2023-02-15 18:10:10.060000+00:00\n",
       "3       2023-02-15 06:38:09.034000+00:00\n",
       "4       2023-02-14 13:16:51.072000+00:00\n",
       "                      ...               \n",
       "37326          1902-01-01 05:20:30+00:00\n",
       "37327          1901-12-31 09:02:30+00:00\n",
       "37328          1901-12-30 22:34:00+00:00\n",
       "37329          1901-03-03 07:45:00+00:00\n",
       "37330          1900-10-09 12:25:00+00:00\n",
       "Name: Time, Length: 37331, dtype: datetime64[ns, UTC]"
      ]
     },
     "execution_count": 5,
     "metadata": {},
     "output_type": "execute_result"
    }
   ],
   "source": [
    "Earthquakes['Time']"
   ]
  },
  {
   "cell_type": "markdown",
   "id": "9f4381c4",
   "metadata": {
    "papermill": {
     "duration": 0.005475,
     "end_time": "2023-02-20T21:57:48.495837",
     "exception": false,
     "start_time": "2023-02-20T21:57:48.490362",
     "status": "completed"
    },
    "tags": []
   },
   "source": []
  },
  {
   "cell_type": "code",
   "execution_count": 6,
   "id": "00be8d88",
   "metadata": {
    "execution": {
     "iopub.execute_input": "2023-02-20T21:57:48.508905Z",
     "iopub.status.busy": "2023-02-20T21:57:48.508473Z",
     "iopub.status.idle": "2023-02-20T21:57:48.527529Z",
     "shell.execute_reply": "2023-02-20T21:57:48.525966Z"
    },
    "papermill": {
     "duration": 0.029535,
     "end_time": "2023-02-20T21:57:48.531017",
     "exception": false,
     "start_time": "2023-02-20T21:57:48.501482",
     "status": "completed"
    },
    "tags": []
   },
   "outputs": [],
   "source": [
    "high_magnitude = Earthquakes[Earthquakes.Mag >6.1].count()[0]\n",
    "medium_magnitude = Earthquakes[(Earthquakes.Mag>=5)&(Earthquakes.Mag<=6)].count()[0]\n",
    "low_magnitude = Earthquakes.loc[Earthquakes.Mag<5].count()[0]"
   ]
  },
  {
   "cell_type": "code",
   "execution_count": 7,
   "id": "5c4119bf",
   "metadata": {
    "execution": {
     "iopub.execute_input": "2023-02-20T21:57:48.544767Z",
     "iopub.status.busy": "2023-02-20T21:57:48.543860Z",
     "iopub.status.idle": "2023-02-20T21:57:48.742314Z",
     "shell.execute_reply": "2023-02-20T21:57:48.741037Z"
    },
    "papermill": {
     "duration": 0.209656,
     "end_time": "2023-02-20T21:57:48.746283",
     "exception": false,
     "start_time": "2023-02-20T21:57:48.536627",
     "status": "completed"
    },
    "tags": []
   },
   "outputs": [
    {
     "data": {
      "image/png": "[encoded data removed]",
      "text/plain": [
       "<Figure size 640x480 with 1 Axes>"
      ]
     },
     "metadata": {},
     "output_type": "display_data"
    },
    {
     "data": {
      "text/plain": [
       "<Figure size 500x800 with 0 Axes>"
      ]
     },
     "execution_count": 7,
     "metadata": {},
     "output_type": "execute_result"
    },
    {
     "data": {
      "text/plain": [
       "<Figure size 500x800 with 0 Axes>"
      ]
     },
     "metadata": {},
     "output_type": "display_data"
    }
   ],
   "source": [
    "import matplotlib.pyplot as plt\n",
    "Magnitudes = [high_magnitude,medium_magnitude,low_magnitude]\n",
    "label = ['over 6 (ML) ','5 to 6 (ML)', 'below 5 (ML)']\n",
    "explode = (0,0,0)\n",
    "plt.pie(Magnitudes, labels=label, explode=explode, pctdistance=0.8,autopct='%.2f %%')\n",
    "plt.show()\n",
    "\n",
    "plt.figure(figsize=(5, 8), dpi=100)"
   ]
  },
  {
   "cell_type": "code",
   "execution_count": 8,
   "id": "8ac68f8c",
   "metadata": {
    "execution": {
     "iopub.execute_input": "2023-02-20T21:57:48.768881Z",
     "iopub.status.busy": "2023-02-20T21:57:48.768458Z",
     "iopub.status.idle": "2023-02-20T21:57:48.778945Z",
     "shell.execute_reply": "2023-02-20T21:57:48.778152Z"
    },
    "papermill": {
     "duration": 0.020254,
     "end_time": "2023-02-20T21:57:48.781275",
     "exception": false,
     "start_time": "2023-02-20T21:57:48.761021",
     "status": "completed"
    },
    "tags": []
   },
   "outputs": [],
   "source": [
    "\n",
    "mask = ((Earthquakes['Time'] >= '1920-03-03') & (Earthquakes['Time'] < '2023-02-17'))\n",
    "df = Earthquakes.loc[mask]"
   ]
  },
  {
   "cell_type": "code",
   "execution_count": 9,
   "id": "a8a3866d",
   "metadata": {
    "execution": {
     "iopub.execute_input": "2023-02-20T21:57:48.796080Z",
     "iopub.status.busy": "2023-02-20T21:57:48.795354Z",
     "iopub.status.idle": "2023-02-20T21:57:51.166139Z",
     "shell.execute_reply": "2023-02-20T21:57:51.165221Z"
    },
    "papermill": {
     "duration": 2.38208,
     "end_time": "2023-02-20T21:57:51.169609",
     "exception": false,
     "start_time": "2023-02-20T21:57:48.787529",
     "status": "completed"
    },
    "tags": []
   },
   "outputs": [
    {
     "data": {
      "text/html": [
       "        <script type=\"text/javascript\">\n",
       "        window.PlotlyConfig = {MathJaxConfig: 'local'};\n",
       "        if (window.MathJax && window.MathJax.Hub && window.MathJax.Hub.Config) {window.MathJax.Hub.Config({SVG: {font: \"STIX-Web\"}});}\n",
       "        if (typeof require !== 'undefined') {\n",
       "        require.undef(\"plotly\");\n",
       "        requirejs.config({\n",
       "            paths: {\n",
       "                'plotly': ['https://cdn.plot.ly/plotly-2.18.0.min']\n",
       "            }\n",
       "        });\n",
       "        require(['plotly'], function(Plotly) {\n",
       "            window._Plotly = Plotly;\n",
       "        });\n",
       "        }\n",
       "        </script>\n",
       "        "
      ]
     },
     "metadata": {},
     "output_type": "display_data"
    },
    {
     "data": {
      "text/html": [
       "<div>                            <div id=\"f1cd0ec1-5ab8-48a5-8802-fca50aa55494\" class=\"plotly-graph-div\" style=\"height:525px; width:100%;\"></div>            <script type=\"text/javascript\">                require([\"plotly\"], function(Plotly) {                    window.PLOTLYENV=window.PLOTLYENV || {};                                    if (document.getElementById(\"f1cd0ec1-5ab8-48a5-8802-fca50aa55494\")) {                    Plotly.newPlot(                        \"f1cd0ec1-5ab8-48a5-8802-fca50aa55494\",                        [{\"geo\":\"geo\",\"hovertemplate\":\"<b>%{hovertext}</b><br><br>Latitude=%{lat}<br>Longitude=%{lon}<br>Mag=%{marker.color}<extra></extra>\",\"hovertext\":[\"4 km SSE of Ekinözü, Turkey\",\"27 km E of Nurda??, Turkey\",\"Pulau Pulau Tanimbar, Indonesia\",\"205 km ESE of Neiafu, Tonga\",\"35 km SSW of Aguililla, Mexico\",\"70 km E of Kainantu, Papua New Guinea\",\"10 km W of Azángaro, Peru\",\"57 km ENE of Namie, Japan\",\"125 km NNE of Lospalos, Timor Leste\",\"Flores Sea\",\"43 km NNW of Barranca, Peru\",\"Vanuatu region\",\"South Sandwich Islands region\",\"Nippes, Haiti\",\"South Sandwich Islands region\",\"South Sandwich Islands region\",\"60 km ENE of Pondaguitan, Philippines\",\"99 km SE of Perryville, Alaska\",\"Southern Qinghai, China\",\"Kermadec Islands, New Zealand\",\"Kermadec Islands, New Zealand\",\"182 km NE of Gisborne, New Zealand\",\"73 km ENE of Namie, Japan\",\"southeast of the Loyalty Islands\",\"99 km SE of Sand Point, Alaska\",\"99 km SSE of Perryville, Alaska\",\"9 km SE of Santa María Xadani, Mexico\",\"south of the Kermadec Islands\",\"221 km SSE of Severo-Kuril’sk, Russia\",\"123 km NNW of Lucea, Jamaica\",\"141 km NW of Ternate, Indonesia\",\"155 km SSE of Sofifi, Indonesia\",\"18km W of Searles Valley, CA\",\"Banda Sea\",\"Kermadec Islands, New Zealand\",\"78 km NE of Navarro, Peru\",\"48 km NE of Kokopo, Papua New Guinea\",\"32 km NW of Bulolo, Papua New Guinea\",\"115 km ESE of Palora, Ecuador\",\"187 km SE of Ust’-Kamchatsk Staryy, Russia\",\"South Sandwich Islands region\",\"166 km ESE of Tadine, New Caledonia\",\"1 km SE of Point MacKenzie, Alaska\",\"72 km N of Palu, Indonesia\",\"45 km S of Levuka, Fiji\",\"238 km ESE of Tadine, New Caledonia\",\"136 km W of Iñapari, Peru\",\"40 km ENE of Carúpano, Venezuela\",\"267 km E of Levuka, Fiji\",\"32 km SW of Tari, Papua New Guinea\",\"4 km S of Pinotepa de Don Luis, Mexico\",\"261 km SE of Chiniak, Alaska\",\"37 km W of Atiquipa, Peru\",\"203 km NNE of Barra Patuca, Honduras\",\"29 km S of ?alabja, Iraq\",\"1 km S of Matzaco, Mexico\",\"near the coast of Chiapas, Mexico\",\"Komandorskiye Ostrova, Russia region\",\"35 km WNW of Panguna, Papua New Guinea\",\"189 km SSE of Tabiauan, Philippines\",\"41 km SW of Quellón, Chile\",\"140 km E of Kokopo, Papua New Guinea\",\"69 km WSW of Kirakira, Solomon Islands\",\"53 km NNE of Amberley, New Zealand\",\"north of Ascension Island\",\"South Georgia Island region\",\"southeast of the Loyalty Islands\",\"Pagan region, Northern Mariana Islands\",\"South Sandwich Islands region\",\"27 km SSE of Muisne, Ecuador\",\"southwest of Sumatra, Indonesia\",\"80 km S of Mil’kovo, Russia\",\"47 km ESE of Pedro Bay, Alaska\",\"104 km W of Murghob, Tajikistan\",\"southeast Indian Ridge\",\"185 km WNW of Iñapari, Peru\",\"155 km WNW of Iñapari, Peru\",\"Hindu Kush region, Afghanistan\",\"31 km NE of Port-Olry, Vanuatu\",\"48 km W of Illapel, Chile\",\"Bonin Islands, Japan region\",\"Nepal\",\"143 km SW of Panguna, Papua New Guinea\",\"131 km SSW of Kokopo, Papua New Guinea\",\"67 km NNE of Bharatpur, Nepal\",\"53 km SE of Kokopo, Papua New Guinea\",\"northern Mid-Atlantic Ridge\",\"155 km NW of Ternate, Indonesia\",\"Fiji region\",\"74 km S of Intipucá, El Salvador\",\"Rat Islands, Aleutian Islands, Alaska\",\"70 km SW of Panguna, Papua New Guinea\",\"9 km ENE of Coyuquilla Norte, Mexico\",\"112 km S of Kirakira, Solomon Islands\",\"93 km SSE of Kirakira, Solomon Islands\",\"56 km WSW of Panguna, Papua New Guinea\",\"53 km SW of Iquique, Chile\",\"93 km NW of Iquique, Chile\",\"Scotia Sea\",\"off the east coast of Honshu, Japan\",\"4 km SE of Sagbayan, Philippines\",\"16 km WSW of Atiquipa, Peru\",\"113 km NW of Bela, Pakistan\",\"South Sandwich Islands region\",\"190 km ENE of Kokopo, Papua New Guinea\",\"Sea of Okhotsk\",\"292 km SW of Vaini, Tonga\",\"252 km ENE of Kuril’sk, Russia\",\"79 km ESE of Kh?sh, Iran\",\"32 km SE of Lata, Solomon Islands\",\"112 km WSW of Lata, Solomon Islands\",\"75 km W of Lata, Solomon Islands\",\"110 km SW of Edna Bay, Alaska\",\"Banda Sea\",\"234 km SE of ?funato, Japan\",\"33 km S of Champerico, Guatemala\",\"206 km SW of Prince Rupert, Canada\",\"11 km WNW of San Agustín, Colombia\",\"11 km ENE of Hojancha, Costa Rica\",\"89 km E of Sulangan, Philippines\",\"126 km S of Puerto El Triunfo, El Salvador\",\"156 km ENE of Poronaysk, Russia\",\"off the west coast of northern Sumatra\",\"off the west coast of northern Sumatra\",\"23 km NE of Constitución, Chile\",\"6 km E of Santiago Llano Grande, Mexico\",\"125 km W of Port-Vila, Vanuatu\",\"off the west coast of northern Sumatra\",\"25 km SSE of Wau, Papua New Guinea\",\"27 km NNE of Van, Turkey\",\"Kermadec Islands region\",\"Fiji region\",\"64 km S of Port-Vila, Vanuatu\",\"71 km SSW of Port-Vila, Vanuatu\",\"Kermadec Islands region\",\"Fox Islands, Aleutian Islands, Alaska\",\"29 km ESE of Ishinomaki, Japan\",\"272 km ESE of Kamaishi, Japan\",\"47 km E of ?arai, Japan\",\"2011 Great Tohoku Earthquake, Japan\",\"120 km SE of ?funato, Japan\",\"46 km WSW of Dalbandin, Pakistan\",\"42 km NNW of Carahue, Chile\",\"141 km W of Isangel, Vanuatu\",\"Bonin Islands, Japan region\",\"215 km SW of Sungai Penuh, Indonesia\",\"Ecuador\",\"33 km NW of Port-Vila, Vanuatu\",\"72 km S of Panubigan, Philippines\",\"61 km W of Bantogon, Philippines\",\"68 km W of Gadung, Philippines\",\"New Britain region, Papua New Guinea\",\"Nicobar Islands, India region\",\"100 km WNW of Sola, Vanuatu\",\"45 km SSW of Meulaboh, Indonesia\",\"75 km E of Sinabang, Indonesia\",\"12km SW of Delta, B.C., MX\",\"124 km W of Lebu, Chile\",\"36 km WNW of Quirihue, Chile\",\"94 km SE of Gizo, Solomon Islands\",\"77 km ENE of Ba, Fiji\",\"143 km NW of Sola, Vanuatu\",\"196 km NW of Sola, Vanuatu\",\"148 km NW of Sola, Vanuatu\",\"30 km WSW of Pariaman, Indonesia\",\"168 km SSW of Matavai, Samoa\",\"266 km N of Bamboo Flat, India\",\"161 km S of ?yama, Japan\",\"97 km WSW of Te Anau, New Zealand\",\"46 km NW of Guanaja, Honduras\",\"191 km S of ‘Ohonua, Tonga\",\"196 km SSE of Sarangani, Philippines\",\"east of the Kuril Islands\",\"86 km WNW of Manokwari, Indonesia\",\"140 km WNW of Manokwari, Indonesia\",\"284 km WSW of Mil’kovo, Russia\",\"135 km NW of Gorontalo, Indonesia\",\"Sea of Okhotsk\",\"58 km W of Tianpeng, China\",\"Macquarie Island region\",\"71 km SW of Isangel, Vanuatu\",\"226 km SE of Hotan, China\",\"164 km WSW of Sungai Penuh, Indonesia\",\"56 km NW of Sinabang, Indonesia\",\"207 km WSW of Adak, Alaska\",\"south of the Fiji Islands\",\"18 km WNW of Basse-Pointe, Martinique\",\"36 km ESE of Tocopilla, Chile\",\"Pagan region, Northern Mariana Islands\",\"Auckland Islands, New Zealand region\",\"Volcano Islands, Japan region\",\"87 km SW of Sungai Penuh, Indonesia\",\"122 km SW of Bengkulu, Indonesia\",\"97 km S of Lata, Solomon Islands\",\"41 km SW of San Vicente de Cañete, Peru\",\"35 km NNE of Rengasdengklok, Indonesia\",\"56 km E of Luganville, Vanuatu\",\"45 km SSE of Gizo, Solomon Islands\",\"119 km S of Isangel, Vanuatu\",\"126 km WNW of Ternate, Indonesia\",\"east of the Kuril Islands\",\"30 km SW of Hengchun, Taiwan\",\"Kuril Islands\",\"226 km SSW of Singaparna, Indonesia\",\"Kermadec Islands region\",\"47 km SSE of Pangai, Tonga\",\"80 km NE of Tilichiki, Russia\",\"196 km S of Ambon, Indonesia\",\"Fiji region\",\"east of the South Sandwich Islands\",\"21 km NNE of Muzaffar?b?d, Pakistan\",\"39 km NW of Yurimaguas, Peru\",\"135 km E of Kokopo, Papua New Guinea\",\"66 km ESE of Ishinomaki, Japan\",\"Nicobar Islands, India region\",\"153 km W of Big Lagoon, California\",\"102 km ENE of Iquique, Chile\",\"78 km WSW of Singkil, Indonesia\",\"Banda Sea\",\"138 km SW of Palimbang, Philippines\",\"284 km WNW of Sabang, Indonesia\",\"2004 Sumatra - Andaman Islands Earthquake\",\"north of Macquarie Island\",\"29 km SSW of Nabire, Indonesia\",\"255 km W of Riverton, New Zealand\",\"32 km SSW of Pizarro, Colombia\",\"63 km NW of Maubara, Timor Leste\",\"118 km ESE of Shing?, Japan\",\"94 km SE of Shing?, Japan\",\"100 km SSE of Jambi City, Indonesia\",\"208 km ENE of Levuka, Fiji\",\"Near the south coast of Papua, Indonesia\",\"202 km ESE of Tadine, New Caledonia\",\"201 km ESE of Tadine, New Caledonia\",\"Rat Islands, Aleutian Islands, Alaska\",\"29 km S of Aktash, Russia\",\"119 km ESE of Shizunai-furukawach?, Japan\",\"134 km SSW of Kushiro, Japan\",\"56 km NW of Te Anau, New Zealand\",\"Scotia Sea\",\"Carlsberg Ridge\",\"105 km E of Cruzeiro do Sul, Brazil\",\"Rat Islands, Aleutian Islands, Alaska\",\"16 km SSW of Cuyutlán, Mexico\",\"126 km W of Kirakira, Solomon Islands\",\"262 km E of Dolinsk, Russia\",\"75 km E of Cantwell, Alaska\",\"50 km NW of Sinabang, Indonesia\",\"102 km SSE of Manokwari, Indonesia\",\"68 km ESE of Aitape, Papua New Guinea\",\"south of the Fiji Islands\",\"Fiji region\",\"50 km SW of Dongning, China\",\"20 km SSW of Merizo Village, Guam\",\"67 km ENE of Hualien City, Taiwan\",\"Mindanao, Philippines\",\"51 km SW of Jurm, Afghanistan\",\"50 km WNW of Port-Vila, Vanuatu\",\"south of Australia\",\"Southern Qinghai, China\",\"155 km E of Kendari, Indonesia\",\"295 km NE of Gisborne, New Zealand\",\"51 km SW of Punta de Bombón, Peru\",\"6 km SSW of Atico, Peru\",\"Kermadec Islands, New Zealand\",\"137 km WNW of Ternate, Indonesia\",\"102 km SSE of Bengkulu, Indonesia\",\"17 km NW of Bhach?u, India\",\"28 km SSW of Puerto El Triunfo, El Salvador\",\"16 km NE of Port-Olry, Vanuatu\",\"21 km SE of Lukatan, Philippines\",\"138 km SSW of Kokopo, Papua New Guinea\",\"135 km SE of Kokopo, Papua New Guinea\",\"24 km N of Rabaul, Papua New Guinea\",\"Bonin Islands, Japan region\",\"South Indian Ocean\",\"103 km S of Bengkulu, Indonesia\",\"75 km N of San Antonio de los Cobres, Argentina\",\"89 km E of Luwuk, Indonesia\",\"Volcano Islands, Japan region\",null,\"117 km SSW of Hihifo, Tonga\",\"14 km WNW of Bolitoc, Philippines\",\"92 km ESE of Lakatoro, Vanuatu\",\"8 km S of Düzce, Turkey\",\"Hector Mine, CA Earthquake\",\"15 km W of San Baltazar Loxicha, Mexico\",\"21 km S of Puli, Taiwan\",\"4 km ESE of Derince, Turkey\",\"51 km SSE of Kokopo, Papua New Guinea\",\"92 km ENE of Kimbe, Papua New Guinea\",\"57 km ENE of Wangqing, China\",\"63 km W of Kimbe, Papua New Guinea\",\"69 km S of Tabiauan, Philippines\",\"146 km NW of Sola, Vanuatu\",\"264 km ESE of Luwuk, Indonesia\",\"Bonin Islands, Japan region\",\"3 km E of Bahía de Caráquez, Ecuador\",\"254 km SSE of Ishigaki, Japan\",\"178 km ENE of Levuka, Fiji\",\"Balleny Islands region\",\"34 km SSE of Antofagasta, Chile\",\"southeast of the Loyalty Islands\",\"117 km N of Finschhafen, Papua New Guinea\",\"156 km S of Ust’-Kamchatsk Staryy, Russia\",\"western Xizang\",\"51 km N of Barranca, Peru\",\"36 km SW of Monte Patria, Chile\",\"192 km WSW of Haveluloto, Tonga\",\"south of the Kermadec Islands\",\"58 km E of Q?’en, Iran\",\"171 km NNW of Sola, Vanuatu\",\"29 km ESE of Harnai, Pakistan\",\"16 km NW of Villazón, Bolivia\",\"46 km WNW of El Habillal, Mexico\",\"60 km SW of Changuillo, Peru\",\"Fiji region\",\"169 km NNE of Maumere, Indonesia\",\"8 km NNE of Palapag, Philippines\",\"46 km SSW of Adak, Alaska\",\"77 km WSW of Adak, Alaska\",\"58 km WSW of Panguna, Papua New Guinea\",\"south of the Fiji Islands\",\"24 km SSW of Santa María Chico Ometepec, Mexico\",\"123 km WSW of Puerto Santa, Peru\",\"101 km ENE of Biak, Indonesia\",\"158 km E of Kuril’sk, Russia\",\"181 km N of Palu, Indonesia\",\"297 km NE of Lospalos, Timor Leste\",\"128 km ESE of Kuril’sk, Russia\",\"27 km SSE of Nuwaybi‘a, Egypt\",\"13 km NW of Ocozocoautla de Espinosa, Mexico\",\"83 km SE of Naze, Japan\",\"5 km E of El Colomo, Mexico\",\"5 km N of Azoyú, Mexico\",\"Pagan region, Northern Mariana Islands\",\"139 km WNW of Panguna, Papua New Guinea\",\"155 km WNW of Panguna, Papua New Guinea\",\"36 km NNE of Antofagasta, Chile\",\"Kermadec Islands, New Zealand\",\"85 km S of Tungor, Russia\",\"249 km E of Vao, New Caledonia\",\"14 km NE of Cabatuan, Philippines\",\"10 km E of Dapdap, Philippines\",\"88 km NNE of Hihifo, Tonga\",\"118 km NNE of Gisborne, New Zealand\",\"off the east coast of Honshu, Japan\",\"10 km E of Sabang, Philippines\",\"96 km E of Shikotan, Russia\",\"48 km E of Shikotan, Russia\",\"121 km W of Ferndale, California\",\"46 km SSW of Vrangel’, Russia\",\"58 km S of Lakatoro, Vanuatu\",\"55 km NNW of Reyes, Bolivia\",\"249 km SSW of Kencong, Indonesia\",\"240 km E of Levuka, Fiji\",\"24 km W of Puerto Madero, Mexico\",\"32 km S of Inarajan Village, Guam\",\"107 km W of Iwanai, Japan\",\"97 km ESE of Ozernovskiy, Russia\",\"178 km W of Lata, Solomon Islands\",\"52 km NE of Otofuke, Japan\",\"281 km WSW of Tual, Indonesia\",\"37 km WNW of Maumere, Indonesia\",\"11 km NNW of Murindó, Colombia\",\"47 km NW of Isangel, Vanuatu\",\"83 km SSW of Corinto, Nicaragua\",\"60 km ENE of Toktogul, Kyrgyzstan\",\"south of the Fiji Islands\",\"The 1992 Landers Earthquake, California\",\"23 km ESE of Santiago, Philippines\",\"9 km SE of Santiago, Philippines\",\"61 km NNW of Finschhafen, Papua New Guinea\",\"19 km SSW of Scotia, California\",\"South Sandwich Islands region\",\"248 km E of Kuril’sk, Russia\",\"33 km NNW of Santa Genoveva de Docordó, Colombia\",\"155 km WNW of Malango, Solomon Islands\",\"27 km NNW of El Hoyo, Argentina\",\"79 km NNW of Gorontalo, Indonesia\",\"34 km S of Limón, Costa Rica\",\"11 km NE of Rioja, Peru\",\"104 km ENE of Kimbe, Papua New Guinea\",\"231 km WNW of Attu Station, Alaska\",\"19 km NW of Isangel, Vanuatu\",\"37 km ENE of Luganville, Vanuatu\",\"4 km E of Macapsing, Philippines\",\"23 km N of P?deg?n-e Manj?l, Iran\",\"0 km ESE of Union, Philippines\",\"135 km NNE of Labuan Bajo, Indonesia\",\"63 km NNE of Juba, South Sudan\",\"69 km ENE of Juba, South Sudan\",\"16 km WSW of Uglegorsk, Russia\",\"75 km NNW of Gorontalo, Indonesia\",\"198 km E of Saipan, Northern Mariana Islands\",\"7 km SSE of Puntarenas, Costa Rica\",\"69 km SSW of Port-Vila, Vanuatu\",\"south of the Fiji Islands\",\"37 km ENE of Barcelona, Philippines\",\"59 km ESE of Kainantu, Papua New Guinea\",\"73 km ENE of Miyako, Japan\",\"Macquarie Island region\",\"69 km W of Tarauacá, Brazil\",\"152 km WNW of Tobelo, Indonesia\",\"145 km NW of Jinghong, China\",\"166 km E of Neiafu, Tonga\",\"121 km W of Kirakira, Solomon Islands\",\"85 km SE of Phek, India\",\"30 km SW of Islay (Matarani), Peru\",\"Gulf of Alaska\",\"37 km ESE of Bato, Philippines\",\"72 km N of Taltal, Chile\",\"200 km WSW of Yakutat, Alaska\",\"54 km W of Kandrian, Papua New Guinea\",\"201 km ENE of Neiafu, Tonga\",\"Macquarie Island region\",\"68 km SSE of Arica, Chile\",\"217 km W of Tual, Indonesia\",\"29 km SSE of Pimampiro, Ecuador\",\"84 km SSE of Antofagasta, Chile\",\"54 km NNW of Finschhafen, Papua New Guinea\",\"8 km SSW of Hualien City, Taiwan\",\"157 km WSW of Haveluloto, Tonga\",\"Kermadec Islands region\",\"7 km NNE of Ca?oca, Romania\",\"146 km NW of Ternate, Indonesia\",\"44 km SSW of Angoram, Papua New Guinea\",\"south of the Fiji Islands\",\"230 km S of Suva, Fiji\",\"85 km SSW of Atka, Alaska\",\"210 km SSE of Isangel, Vanuatu\",\"112 km W of Sola, Vanuatu\",\"127 km SE of Manokwari, Indonesia\",\"7 km N of Pantla, Mexico\",\"26 km NW of El Habillal, Mexico\",\"75 km S of Jurm, Afghanistan\",\"62 km E of Kokopo, Papua New Guinea\",\"100 km E of Kimbe, Papua New Guinea\",\"59 km S of San Antonio, Chile\",\"19 km S of Valparaíso, Chile\",\"25 km WSW of Valparaíso, Chile\",\"45 km SW of Sarangani, Philippines\",\"190 km SSW of Sibolga, Indonesia\",\"southeast of the Loyalty Islands\",\"central Mid-Atlantic Ridge\",\"19 km ENE of Hihifo, Tonga\",\"91 km SW of Gorontalo, Indonesia\",\"94 km SW of Kokopo, Papua New Guinea\",\"123 km ENE of Shikotan, Russia\",\"Izu Islands, Japan region\",\"4 km NNW of Tabid, Philippines\",\"85 km SE of Honiara, Solomon Islands\",\"77 km ESE of Owase, Japan\",\"55 km S of Jurm, Afghanistan\",\"Chagos Archipelago region\",\"172 km NE of Lospalos, Timor Leste\",null,\"54 km WSW of Diego de Almagro, Chile\",\"57 km SSE of Klyuchi, Russia\",\"83 km WNW of Noshiro, Japan\",\"12 km N of Golfito, Costa Rica\",\"157 km ESE of Kokopo, Papua New Guinea\",\"south of Tonga\",\"93 km ENE of Hasaki, Japan\",\"west of the Bonin Islands, Japan\",\"18 km SSW of La Libertad, El Salvador\",\"4 km SW of Gigmoto, Philippines\",\"Kermadec Islands, New Zealand\",\"61 km W of Eresós, Greece\",\"7 km NNE of Petacalco, Mexico\",\"135 km W of Valparaíso, Chile\",\"133 km NE of Hihifo, Tonga\",\"75 km ESE of Kerman, Iran\",\"off the west coast of the South Island of New Zealand\",\"11 km WSW of Big Lagoon, California\",\"207 km E of Tadine, New Caledonia\",\"3 km NNE of Chlef, Algeria\",\"199 km S of Lata, Solomon Islands\",\"196 km SSE of Lata, Solomon Islands\",null,\"56 km ENE of Q?’en, Iran\",\"71 km WSW of Kirakira, Solomon Islands\",\"180 km W of Riverton, New Zealand\",\"55 km S of Biak, Indonesia\",\"62 km N of San Vicente, Philippines\",\"12 km SSE of Vallecitos de Zaragoza, Mexico\",\"113 km SE of McCarthy, Alaska\",\"2 km ESE of San Agustín Loxicha, Mexico\",\"78 km SSE of Kirakira, Solomon Islands\",\"52 km ESE of Tabas, Iran\",\"85 km ENE of Hengchun, Taiwan\",\"68 km ESE of Ishinomaki, Japan\",\"23 km ENE of Tyup, Kyrgyzstan\",\"134 km SE of Kuril’sk, Russia\",\"55 km SE of Kuril’sk, Russia\",\"Kermadec Islands, New Zealand\",\"San Juan, Argentina\",\"south of Tonga\",\"east of the South Sandwich Islands\",\"265 km SW of Waingapu, Indonesia\",\"143 km W of Gizo, Solomon Islands\",\"103 km SE of Honiara, Solomon Islands\",\"105 km ESE of Honiara, Solomon Islands\",\"66 km SE of Honiara, Solomon Islands\",\"199 km ESE of Hihifo, Tonga\",\"2 km N of Spulber, Romania\",\"47 km S of Do?ubayaz?t, Turkey\",\"226 km SSW of Abepura, Indonesia\",\"19 km WNW of Palimbang, Philippines\",\"6 km SW of Linxi, China\",\"17 km NE of Penguanzhuang, China\",\"214 km NW of Kiunga, Papua New Guinea\",\"7 km N of Los Amates, Guatemala\",\"Kermadec Islands region\",\"146 km ESE of Hihifo, Tonga\",\"17 km SSW of Leilani Estates, Hawaii\",\"66 km ENE of Alugan, Philippines\",\"south of Tonga\",\"94 km SSW of Panguna, Papua New Guinea\",\"56 km WSW of Panguna, Papua New Guinea\",\"Azores-Cape St. Vincent Ridge\",\"44 km SSE of Cañete, Chile\",\"36 km NE of Attu Station, Alaska\",\"87 km SW of Callao, Peru\",\"282 km SW of Panguna, Papua New Guinea\",\"25 km NW of Saint John’s, Antigua and Barbuda\",\"77 km WSW of Callao, Peru\",\"37 km NW of Carahue, Chile\",\"134 km E of Kyzyl-Eshme, Kyrgyzstan\",\"33 km SSW of Boca de Cupé, Panama\",\"Kermadec Islands region\",\"118 km S of Panguna, Papua New Guinea\",\"70 km NNW of Port-Olry, Vanuatu\",\"20 km WSW of Port-Olry, Vanuatu\",\"81 km NW of Port-Olry, Vanuatu\",\"58 km SSW of Shikotan, Russia\",\"19 km ESE of Nemuro, Japan\",\"38 km ESE of Severo-Kuril’sk, Russia\",\"203 km NW of Kangding, China\",\"35 km SW of Aguililla, Mexico\",\"200 km SSE of Tateyama, Japan\",\"51 km E of Pondaguitan, Philippines\",\"202 km SSE of Kokopo, Papua New Guinea\",\"Southeastern Alaska\",\"228 km SW of Sarangani, Philippines\",\"151 km NW of Neiafu, Tonga\",\"192 km NW of Panguna, Papua New Guinea\",\"17 km WSW of Harrison, Philippines\",\"south of the Fiji Islands\",\"195 km SSE of Tateyama, Japan\",\"102 km SE of Lata, Solomon Islands\",\"103 km SSE of Hualien City, Taiwan\",\"163 km SSE of Hualien City, Taiwan\",\"142 km WNW of Sola, Vanuatu\",\"off the east coast of the Kamchatka Peninsula, Russia\",\"48 km SE of Petropavlovsk-Kamchatsky, Russia\",\"150 km SSE of Lata, Solomon Islands\",\"49 km W of Gornozavodsk, Russia\",\"central Mid-Atlantic Ridge\",\"134 km SE of Shizunai-furukawach?, Japan\",\"103 km ESE of Sucúa, Ecuador\",\"113 km ESE of Kokopo, Papua New Guinea\",\"189 km WNW of Panguna, Papua New Guinea\",\"201 km WNW of Panguna, Papua New Guinea\",\"21 km SE of La Ligua, Chile\",\"58 km S of Bengkulu, Indonesia\",\"101 km SW of Padangsidempuan, Indonesia\",\"120 km WSW of Abepura, Indonesia\",null,\"15 km SE of Cañaveral, Peru\",\"Sea of Okhotsk\",\"95 km N of San Antonio del Estrecho, Peru\",\"296 km S of Prince Rupert, Canada\",\"Macquarie Island region\",\"20 km WSW of Chimbote, Peru\",\"Bonin Islands, Japan region\",\"33 km SW of Puerto Madero, Mexico\",\"9 km ENE of Suklayin, Philippines\",\"19 km NE of Gediz, Turkey\",\"58 km WNW of Atka, Alaska\",\"38 km SE of Lukatan, Philippines\",\"18 km S of Yuxi, China\",\"164 km ESE of Beauséjour, Guadeloupe\",\"171 km NNE of Ust’-Kamchatsk Staryy, Russia\",\"216 km WSW of Sinabang, Indonesia\",\"92 km SE of Shikotan, Russia\",\"97 km ESE of Shikotan, Russia\",\"Macquarie Island region\",\"41 km E of Takanabe, Japan\",\"184 km SW of Sagres, Portugal\",\"38 km N of Majene, Indonesia\",\"187 km N of Baukau, Timor Leste\",\"south of the Fiji Islands\",\"224 km ESE of Sarangani, Philippines\",\"36 km NE of Port-Olry, Vanuatu\",\"79 km WNW of Buala, Solomon Islands\",\"Bonin Islands, Japan region\",\"Kermadec Islands, New Zealand\",\"42 km ESE of Gon?b?d, Iran\",\"58 km SSE of Malango, Solomon Islands\",\"118 km N of Palu, Indonesia\",\"140 km E of Laikit, Laikit II (Dimembe), Indonesia\",\"10 km SW of La Humedad, Mexico\",\"32 km SE of Minuri, Philippines\",\"Kermadec Islands, New Zealand\",\"145 km W of Abepura, Indonesia\",\"36 km ENE of Westport, New Zealand\",\"189 km ESE of Kuril’sk, Russia\",\"101 km SSE of Shizunai-furukawach?, Japan\",\"168 km ENE of Hachinohe, Japan\",\"58 km ESE of Nobeoka, Japan\",\"170 km SE of Kokopo, Papua New Guinea\",\"25 km S of Shikotan, Russia\",\"189 km ESE of Kokopo, Papua New Guinea\",\"36 km NE of Tocopilla, Chile\",\"9 km E of Granada, Nicaragua\",\"Fiji region\",\"6 km SE of Hendek, Turkey\",\"124 km SSW of Tarauacá, Brazil\",\"80 km SSW of Bulgan, Mongolia\",\"192 km SSE of Lata, Solomon Islands\",\"172 km SSE of Lata, Solomon Islands\",\"11 km SW of Taltal, Chile\",\"43 km W of Paramonga, Peru\",\"90 km NE of Tobelo, Indonesia\",\"101 km W of Kirakira, Solomon Islands\",\"Macquarie Island region\",\"57 km SW of Yonakuni, Japan\",\"5 km SSW of Santa María Zapotitlán, Mexico\",\"45 km W of Norsup, Vanuatu\",\"38 km SSW of Luganville, Vanuatu\",\"21 km WNW of Luganville, Vanuatu\",\"Macquarie Island region\",null,\"113 km SE of Kuril’sk, Russia\",\"52 km ENE of Port-Olry, Vanuatu\",\"Rat Islands, Aleutian Islands, Alaska\",\"7 km S of La Ligua, Chile\",\"51 km S of Jurm, Afghanistan\",\"264 km WSW of Adak, Alaska\",\"Rat Islands, Aleutian Islands, Alaska\",\"275 km WNW of Ambon, Indonesia\",\"Nicobar Islands, India region\",\"off the west coast of the South Island of New Zealand\",\"54 km E of Luganville, Vanuatu\",\"10 km SW of Villa Nicolás Bravo, Mexico\",\"48 km ESE of Nemuro, Japan\",\"24 km NW of Murakami, Japan\",\"South Sandwich Islands region\",\"1964 Prince William Sound Earthquake, Alaska\",\"south of the Fiji Islands\",\"164 km N of Pamanukan, Indonesia\",\"132 km SW of Tarauacá, Brazil\",\"Banda Sea\",\"217 km ESE of Kuril’sk, Russia\",\"132 km ESE of Kuril’sk, Russia\",\"55 km WNW of Lata, Solomon Islands\",\"28 km NW of Lata, Solomon Islands\",\"217 km ENE of Levuka, Fiji\",\"50 km N of Sandia, Peru\",\"204 km SSE of Sofifi, Indonesia\",\"197 km SSE of Sofifi, Indonesia\",\"Kermadec Islands, New Zealand\",\"east of the Kuril Islands\",\"49 km WSW of Wau, Papua New Guinea\",\"51 km SE of Yilan, Taiwan\",\"21 km SSE of Taco Pozo, Argentina\",\"59 km SSE of Burica, Panama\",\"262 km WNW of Haveluloto, Tonga\",\"186 km NE of Lospalos, Timor Leste\",\"62 km SE of Obihiro, Japan\",\"137 km ESE of Ishinomaki, Japan\",\"15 km WSW of Angol, Chile\",\"South Sandwich Islands region\",\"South Sandwich Islands region\",\"149 km WNW of Iñapari, Peru\",\"132 km W of Iñapari, Peru\",\"48 km SW of Nemuro, Japan\",\"63 km S of Port-Vila, Vanuatu\",\"126 km ESE of Koshima, Japan\",\"151 km ENE of Kashgar, China\",\"18 km NNE of Nichinan, Japan\",\"104 km ENE of Hasaki, Japan\",\"93 km ENE of Hasaki, Japan\",\"77 km NNE of Taltal, Chile\",\"south of the Fiji Islands\",\"103 km WSW of Mórrope, Peru\",\"Off the coast of Araucania, Chile\",\"35 km S of Puerto Chacabuco, Chile\",\"1960 Great Chilean Earthquake (Valdivia Earthquake)\",\"38 km WNW of Traiguén, Chile\",\"26 km W of Angol, Chile\",\"4 km ESE of Cañete, Chile\",\"118 km E of Miyako, Japan\",\"113 km ENE of Miyako, Japan\",\"21 km SSE of Nazca, Peru\",\"Kermadec Islands region\",\"17 km ESE of West Yellowstone, Montana\",\"67 km WNW of Gizo, Solomon Islands\",\"38 km ENE of Hengchun, Taiwan\",\"136 km E of Iquique, Chile\",\"76 km ENE of Petropavlovsk-Kamchatsky, Russia\",\"95 km SSE of Kuril’sk, Russia\",\"81 km SSE of Puerto Rosario de Laberinto, Peru\",\"22 km W of Elfin Cove, Alaska\",\"68 km NNE of Ishigaki, Japan\",\"near the coast of Ecuador\",\"186 km NNW of Sola, Vanuatu\",\"153 km SW of Bayanhongor, Mongolia\",\"51 km W of Atocha, Bolivia\",\"66 km SSE of Klyuchi, Russia\",\"Fiji region\",\"146 km SE of Pondaguitan, Philippines\",\"8 km ENE of Apantla, Mexico\",\"25 km SE of Kuanda, Russia\",\"82 km SE of Biak, Indonesia\",\"13 km SSW of Düzce, Turkey\",\"34 km S of Sarigerme, Turkey\",\"27 km SSE of Sarigerme, Turkey\",\"112 km NNE of Hihifo, Tonga\",\"39 km S of Akutan, Alaska\",\"162 km WSW of Adak, Alaska\",\"75 km S of Adak, Alaska\",\"60 km SW of Adak, Alaska\",\"35 km SW of Nikolski, Alaska\",\"81 km ESE of Adak, Alaska\",\"12 km SSW of Masachapa, Nicaragua\",\"19 km SSE of Amorgós, Greece\",\"42 km NNW of B?my?n, Afghanistan\",\"144 km SSW of Leava, Wallis and Futuna\",\"Izu Islands, Japan region\",\"102 km SE of Kokopo, Papua New Guinea\",\"Volcano Islands, Japan region\",\"190 km WNW of Sabang, Indonesia\",\"19 km WSW of Kangding, China\",\"Mindanao, Philippines\",\"154 km ESE of Mil’kovo, Russia\",\"Kermadec Islands region\",\"53 km N of Gabbs, Nevada\",\"Volcano Islands, Japan region\",\"94 km SSW of La Libertad, Mexico\",\"Owen Fracture Zone region\",\"Strait of Gibraltar\",\"Volcano Islands, Japan region\",null,\"174 km SE of Katsuura, Japan\",\"146 km NW of Sola, Vanuatu\",\"62 km NE of Isangel, Vanuatu\",\"23 km SE of Chiguayante, Chile\",\"67 km E of Kokopo, Papua New Guinea\",\"18 km WSW of Soufrière, Saint Lucia\",\"7 km N of Gönen, Turkey\",\"89 km ESE of Petropavlovsk-Kamchatsky, Russia\",\"101 km SSW of Nagqu, China\",\"6km WNW of Grapevine, CA\",\"108 km ENE of Cortes, Philippines\",\"106 km SSW of Kushiro, Japan\",\"77 km N of Baukau, Timor Leste\",\"South Indian Ocean\",\"Taiwan\",\"81 km E of Yujing, Taiwan\",\"89 km WSW of Nagqu, China\",\"Kuril Islands\",\"27 km WSW of Hualien City, Taiwan\",\"58 km SSW of Hualien City, Taiwan\",\"Bonin Islands, Japan region\",\"0 km SW of Igualapa, Mexico\",\"159 km W of Pangai, Tonga\",\"121 km SSE of San Pedro de Atacama, Chile\",\"99 km SW of Port-Vila, Vanuatu\",\"Banda Sea\",\"1 km NNW of Champerico, Guatemala\",\"55 km S of Ambon, Indonesia\",\"Costa Rica\",\"250 km ESE of Biak, Indonesia\",\"1950 Assam-Tibet Earthquake\",\"44 km WNW of Quimilí, Argentina\",\"91 km SSE of Isangel, Vanuatu\",\"100 km SSE of Korsakov, Russia\",\"7 km N of Agbannawag, Philippines\",\"109 km SSE of Punta Arenas, Chile\",\"123 km W of Río Grande, Argentina\",\"155 km WNW of Panguna, Papua New Guinea\",\"171 km S of Hydaburg, Alaska\",\"9 km NNW of Karaburun, Turkey\",\"43 km ENE of Rasht, Tajikistan\",\"233 km NE of Saipan, Northern Mariana Islands\",\"15 km SSW of Nacimiento, Chile\",\"86 km NNW of Tobelo, Indonesia\",\"35 km SSW of Jurm, Afghanistan\",\"110 km ENE of Kuqa, China\",\"14 km N of Ashgabat, Turkmenistan\",\"110 km E of ‘Ohonua, Tonga\",\"151 km W of Kangding, China\",null,\"11 km WNW of Sánchez, Dominican Republic\",\"67 km SSW of Shing?, Japan\",\"176 km W of Davila, Philippines\",\"124 km WNW of Ambon, Indonesia\",\"15 km NNW of Karpathos, Greece\",\"Fiji region\",\"3 km W of Buga, Philippines\",\"72 km W of Rumoi, Japan\",\"23 km E of Santa Rosa, Peru\",\"Central Alaska\",\"4 km WNW of Koróni, Greece\",\"73 km W of Shi Yomi, India\",\"Mariana Islands region\",\"128 km ESE of Laikit, Laikit II (Dimembe), Indonesia\",\"138 km SW of Insrom, Indonesia\",\"82 km ENE of Gisborne, New Zealand\",\"92 km WSW of Kandrian, Papua New Guinea\",\"142 km E of Shikotan, Russia\",\"195 km E of Biak, Indonesia\",\"46 km E of Gisborne, New Zealand\",\"Qinghai-Sichuan border region, China\",\"134 km E of Shikotan, Russia\",\"68 km S of Shing?, Japan\",\"40 km NE of Balkanabat, Turkmenistan\",\"34 km N of Kerben, Kyrgyzstan\",\"152 km SE of Kokopo, Papua New Guinea\",\"Myanmar\",\"129 km ENE of Mawlaik, Myanmar\",\"16 km NNW of Miches, Dominican Republic\",\"8 km NNW of Courtenay, Canada\",\"96 km ESE of Kokopo, Papua New Guinea\",\"1946 Aleutian Islands (Unimak Island) Earthquake, Alaska\",\"38 km ESE of Luganville, Vanuatu\",\"32 km SSW of Kimbe, Papua New Guinea\",\"New Britain region, Papua New Guinea\",\"off the coast of Pakistan\",\"173 km WSW of Riverton, New Zealand\",\"149 km NNE of Ust’-Kamchatsk Staryy, Russia\",\"Volcano Islands, Japan region\",\"66 km ENE of Misawa, Japan\",\"20 km E of Shing?, Japan\",\"47 km NNW of Isangel, Vanuatu\",\"130 km SSE of Lata, Solomon Islands\",\"85 km ENE of Petropavlovsk-Kamchatsky, Russia\",\"70 km SW of Puerto Madero, Mexico\",\"195 km E of Kavieng, Papua New Guinea\",\"Fiji region\",\"5 km SW of Manokwari, Indonesia\",\"52 km ESE of Xinyuan, China\",\"212 km E of Fuvahmulah, Maldives\",\"10 km WNW of Orta, Turkey\",\"205 km SE of Kokopo, Papua New Guinea\",\"6 km SSE of Ilgaz, Turkey\",\"147 km E of Tual, Indonesia\",\"13 km W of Dergaon, India\",\"Kermadec Islands, New Zealand\",\"Macquarie Island region\",\"45 km N of San Antonio, Puerto Rico\",\"87 km SSW of Srandakan, Indonesia\",\"169 km ENE of Hachinohe, Japan\",\"26 km S of Sijunjung, Indonesia\",\"78 km NNW of Curup, Indonesia\",\"77 km E of Baculin, Philippines\",\"18 km ENE of Bagacay, Philippines\",\"96 km ESE of Takahagi, Japan\",\"45 km NNW of Illapel, Chile\",\"18 km SSW of Palos Blancos, Mexico\",\"central Mid-Atlantic Ridge\",\"south of Africa\",\"12 km SSW of Kipit, Philippines\",\"21 km NNE of Minas de Marcona, Peru\",\"26 km SSW of La Gomera, Guatemala\",\"87 km SSE of Antofagasta, Chile\",\"12 km SE of Pedernales, Ecuador\",\"18 km WSW of Tayaman, Philippines\",\"122 km SSE of Koshima, Japan\",\"96 km SSW of Nabire, Indonesia\",\"18 km NNW of Yujing, Taiwan\",\"70 km WSW of Golfito, Costa Rica\",\"Azores-Cape St. Vincent Ridge\",\"41 km E of Takanabe, Japan\",\"33 km NW of Gorontalo, Indonesia\",\"Kermadec Islands, New Zealand\",\"Kermadec Islands, New Zealand\",\"43 km N of Bamboo Flat, India\",\"54 km ESE of Lata, Solomon Islands\",\"21 km ESE of Coalcomán de Vázquez Pallares, Mexico\",\"New Britain region, Papua New Guinea\",\"Mariana Islands region\",\"13 km ESE of Comand?u, Romania\",\"Near the coast of Tarapaca, Chile\",\"137 km WSW of Rishiri Town, Japan\",\"21 km SE of Huacho, Peru\",\"24 km E of Attu Station, Alaska\",\"80 km SSE of Attu Station, Alaska\",\"Mariana Islands region\",\"20 km NNE of Erzincan, Turkey\",\"68 km SSW of Gorontalo, Indonesia\",\"4 km WNW of Atenas, Costa Rica\",\"off the east coast of Honshu, Japan\",\"238 km SSE of Attu Station, Alaska\",\"92 km NNE of San Luis, Mexico\",\"28 km W of Tenn?, Japan\",\"23 km SSE of Malango, Solomon Islands\",\"Atacama, Chile\",\"48 km SSW of Isangel, Vanuatu\",\"South Indian Ocean\",\"85 km S of Panguna, Papua New Guinea\",\"26 km WNW of San Carlos, Chile\",\"113 km ESE of Yujing, Taiwan\",\"99 km E of Iwaki, Japan\",\"200 km ESE of Iwaki, Japan\",\"Alaska Peninsula\",\"141 km ESE of Namie, Japan\",\"116 km E of Namie, Japan\",\"116 km ESE of Namie, Japan\",\"105 km E of Iwaki, Japan\",\"70 km SE of Maumere, Indonesia\",\"182 km WNW of Tobelo, Indonesia\",\"21 km SSW of Hualien City, Taiwan\",\"31 km SE of Falam, Myanmar\",\"22 km ESE of Kemin, Kyrgyzstan\",\"78 km S of Naze, Japan\",\"35 km N of Hirara, Japan\",\"170 km WNW of Ambon, Indonesia\",\"72 km SW of Isangel, Vanuatu\",\"41 km W of Pagsanahan Norte, Philippines\",\"69 km ESE of Kitaibaraki, Japan\",\"120 km NE of Palu, Indonesia\",\"48 km NW of Finschhafen, Papua New Guinea\",\"141 km WNW of Tual, Indonesia\",\"3 km W of Huixtepec, Mexico\",\"6 km E of Tignoan, Philippines\",\"205 km NNE of Gili Air, Indonesia\",\"Central Alaska\",\"55 km SW of Santiago de Cao, Peru\",\"227 km WNW of Haveluloto, Tonga\",\"170 km ESE of Kuril’sk, Russia\",\"76 km E of Kirakira, Solomon Islands\",null,\"61 km ESE of Ust’-Kamchatsk Staryy, Russia\",\"83 km E of Ishinomaki, Japan\",\"86 km WSW of Pangkalan Brandan, Indonesia\",\"51 km E of Hengchun, Taiwan\",\"83 km NNE of Taltal, Chile\",\"253 km SE of Vilyuchinsk, Russia\",\"61 km NW of Gizo, Solomon Islands\",\"161 km SE of Sarangani, Philippines\",\"152 km NNE of Tual, Indonesia\",\"212 km W of Pariaman, Indonesia\",\"56 km W of Kirakira, Solomon Islands\",\"4 km SSW of Puerto Madero, Mexico\",\"192 km ENE of Miyako, Japan\",\"136 km ENE of Miyako, Japan\",\"55 km NNW of Ambunti, Papua New Guinea\",\"New Guinea, Papua New Guinea\",\"42 km SSW of Shikotan, Russia\",\"66 km ENE of Hengchun, Taiwan\",\"southeast of the Loyalty Islands\",\"17 km WSW of Kalat, Pakistan\",\"14 km N of Taichung, Taiwan\",\"200 km NW of Dêqên, China\",\"102 km SW of Barra de Navidad, Mexico\",\"45 km SSE of Lata, Solomon Islands\",\"138 km SSE of Lata, Solomon Islands\",\"44 km ESE of Burica, Panama\",\"12 km E of Kinablangan, Philippines\",\"119 km SE of Honiara, Solomon Islands\",\"39 km SE of Palmerston North, New Zealand\",\"61 km ENE of Kimbe, Papua New Guinea\",\"Volcano Islands, Japan region\",\"113 km W of Cabittaogan, Philippines\",\"Nepal\",\"Baffin Bay\",\"South Sandwich Islands region\",\"101 km WNW of Jiangyou, China\",\"48 km SW of Kotabumi, Indonesia\",\"110 km ESE of Ishinomaki, Japan\",\"1933 Sanriku (Sanriku-oki) Earthquake, Japan\",\"34 km S of Iquique, Chile\",null,\"108 km WSW of Laojunmiao, China\",\"88 km SSE of Kamenka, Russia\",\"12 km NNE of La Central, Mexico\",\"7 km E of Los Tepames, Mexico\",\"4 km ENE of Tonaya, Mexico\",\"12 km S of Conchagua, El Salvador\",\"148 km SE of Tondano, Indonesia\",\"58 km ESE of Takanabe, Japan\",\"116 km NW of Kirakira, Solomon Islands\",\"108 km SW of Kirakira, Solomon Islands\",\"161 km S of Bengkulu, Indonesia\",\"14 km SSE of Mach, Pakistan\",\"148 km ESE of Altay, China\",\"172 km SE of Altay, China\",\"43 km SW of Aitape, Papua New Guinea\",\"Azores-Cape St. Vincent Ridge\",\"37 km S of San Antonio, Chile\",\"78 km E of Hachinohe, Japan\",\"40 km E of Waiouru, New Zealand\",\"164 km SSW of Pagar Alam, Indonesia\",\"47 km WSW of Hastings, New Zealand\",\"265 km S of Merizo Village, Guam\",\"37 km S of Sarupathar, India\",\"5 km SSW of San Miguel Suchixtepec, Mexico\",\"36 km SSW of Pyu, Myanmar\",\"Pagan region, Northern Mariana Islands\",\"10 km SSW of Salm?s, Iran\",\"41 km SW of Nyaunglebin, Myanmar\",\"93 km NW of Attu Station, Alaska\",\"256 km S of Saint-Pierre, Saint Pierre and Miquelon\",\"State of Yap, Federated States of Micronesia\",\"88 km WSW of Adak, Alaska\",\"114 km WSW of Adak, Alaska\",\"South Sandwich Islands region\",\"68 km S of Wakefield, New Zealand\",\"5 km ESE of Veruela, Philippines\",\"262 km W of Port McNeill, Canada\",\"40 km SSE of Baharly, Turkmenistan\",\"234 km SSW of Nikolski, Alaska\",null,\"off the coast of Central America\",\"10 km ESE of Basak, Philippines\",\"47 km NW of Cauquenes, Chile\",\"30 km NNE of Constitución, Chile\",\"64 km NNE of Antofagasta, Chile\",\"6 km WSW of San Miguel Panixtlahuaca, Mexico\",\"40 km S of Corralero, Mexico\",\"15 km SSW of Huabal, Peru\",\"Vanuatu region\",\"15 km ESE of San Gabriel Mixtepec, Mexico\",\"79 km ENE of Miyako, Japan\",\"23 km N of Bellavista, Peru\",\"3 km W of Brezovo, Bulgaria\",\"9 km S of Stara Zagora, Bulgaria\",\"8 km ENE of Santiago Xanica, Mexico\",\"274 km ESE of Tadine, New Caledonia\",\"South Indian Ocean\",\"83 km SSE of Atlasovo, Russia\",\"12 km S of Puerto Cisnes, Chile\",\"31 km SSW of Pelican, Alaska\",\"125 km ESE of Katsuura, Japan\",\"61 km ENE of Sorong, Indonesia\",\"273 km WSW of Tual, Indonesia\",\"31 km SSW of Wuwei, China\",\"199 km SSW of Katabu, Indonesia\",\"Kuril Islands\",\"84 km SW of Port-Vila, Vanuatu\",\"158 km WSW of Abepura, Indonesia\",\"north of Macquarie Island\",\"33 km WNW of Malango, Solomon Islands\",\"138 km SSE of Pundong, Indonesia\",\"southeast of the Loyalty Islands\",\"34 km WNW of Kirakira, Solomon Islands\",\"110 km SE of Gizo, Solomon Islands\",\"113 km SSW of Puerto El Triunfo, El Salvador\",\"62 km SW of Malango, Solomon Islands\",\"23 km NNW of Bugko, Philippines\",\"60 km WNW of Sorong, Indonesia\",\"northern Mid-Atlantic Ridge\",\"Komandorskiye Ostrova, Russia region\",\"61 km W of Angoram, Papua New Guinea\",\"129 km WNW of Ternate, Indonesia\",\"43 km ESE of Hengchun, Taiwan\",\"South Indian Ocean\",\"113 km SSE of Port-Vila, Vanuatu\",\"Kuril Islands\",\"70 km E of Aras-asan, Philippines\",\"67 km ENE of Kashima-shi, Japan\",\"north of Macquarie Island\",\"southern Xinjiang, China\",\"southern Xinjiang, China\",\"Macquarie Island region\",\"Fiji region\",\"6 km E of Tibanbang, Philippines\",\"101 km NE of Naze, Japan\",\"193 km W of Sorong, Indonesia\",\"5 km E of Tateyama, Japan\",\"5 km SSE of ?iso, Japan\",\"22 km N of Nishinoomote, Japan\",\"99 km E of Lashio, Myanmar\",\"64 km ENE of Hasaki, Japan\",\"5 km NW of Kadingilan, Philippines\",\"97 km SSE of Ust’-Kamchatsk Staryy, Russia\",\"77 km ESE of Mil’kovo, Russia\",\"121 km ESE of Mil’kovo, Russia\",\"163 km ENE of Petropavlovsk-Kamchatsky, Russia\",\"66 km W of Ferndale, California\",\"94 km ENE of Vallenar, Chile\",\"35 km N of El Cardo, Peru\",\"50 km SSE of Yilan, Taiwan\",\"123 km W of Big Lagoon, California\",\"143 km ESE of San Antonio del Estrecho, Peru\",\"130 km W of Puerto Nariño, Colombia\",\"71 km SSW of Jurm, Afghanistan\",\"62 km E of Baculin, Philippines\",\"143 km NNW of Sola, Vanuatu\",\"233 km S of Pundong, Indonesia\",\"7 km SW of El Viejo, Nicaragua\",\"103 km ESE of Neiafu, Tonga\",\"32 km NE of Chajul, Guatemala\",\"125 km E of Baiyin, China\",\"50 km SSW of Carahue, Chile\",\"147 km E of Kuril’sk, Russia\",\"97 km WSW of Isangel, Vanuatu\",\"32 km NW of Fiambalá, Argentina\",\"47 km SE of Hualien City, Taiwan\",\"74 km SSW of Kokopo, Papua New Guinea\",\"122 km ENE of Hengchun, Taiwan\",\"183 km ESE of Kokopo, Papua New Guinea\",\"277 km SSE of Kushiro, Japan\",\"166 km ENE of Neiafu, Tonga\",\"Kermadec Islands, New Zealand\",\"13 km ENE of Trevelin, Argentina\",\"Off the coast of Los Lagos, Chile\",\"Fiji region\",\"22 km ESE of Bobon, Philippines\",\"60 km W of Diego de Almagro, Chile\",\"northern Mid-Atlantic Ridge\",\"east of the Kuril Islands\",\"185 km NW of Kavieng, Papua New Guinea\",\"24 km NNW of San Antonio, Puerto Rico\",\"east of the Kuril Islands\",\"75 km SSW of Malisbeng, Philippines\",\"24 km N of Kishorganj, Bangladesh\",\"50 km N of Wewak, Papua New Guinea\",\"41 km SSW of Heroica Guaymas, Mexico\",\"central Mid-Atlantic Ridge\",\"7 km S of Huanggang, China\",\"31 km S of San Francisco Cozoaltepec, Mexico\",\"Kermadec Islands, New Zealand\",\"5 km SE of Castilla La Nueva, Colombia\",\"93 km SW of Aitape, Papua New Guinea\",\"169 km SE of Shizunai-furukawach?, Japan\",\"120 km ENE of Hirara, Japan\",\"120 km NNE of Hihifo, Tonga\",\"54 km SE of Sand Point, Alaska\",\"261 km S of Merizo Village, Guam\",\"Kermadec Islands region\",\"84 km SW of Niquero, Cuba\",\"43 km E of Ust’-Kamchatsk Staryy, Russia\",\"156 km SE of Severo-Kuril’sk, Russia\",\"48 km NNW of Suncho Corral, Argentina\",\"6 km WNW of Siquirres, Costa Rica\",\"208 km SE of Katsuura, Japan\",\"South Indian Ocean\",\"204 km WSW of Sámara, Costa Rica\",\"Rat Islands, Aleutian Islands, Alaska\",\"152 km ESE of Koshima, Japan\",\"36 km NNE of Nabire, Indonesia\",\"60 km SE of Kokopo, Papua New Guinea\",\"119 km SE of Kamaishi, Japan\",\"12 km NW of Chalatenango, El Salvador\",\"233 km SE of Atlasovo, Russia\",\"266 km SSW of Severo-Kuril’sk, Russia\",\"98 km SSW of Ishigaki, Japan\",\"273 km N of Tobelo, Indonesia\",\"15 km WSW of Burdur, Turkey\",\"92 km E of Beauséjour, Guadeloupe\",\"160 km WNW of Hami, China\",\"73 km WSW of Bengkulu, Indonesia\",\"130 km SE of Biak, Indonesia\",\"128 km SE of Kirakira, Solomon Islands\",\"127 km SW of La Esperanza (El Zapotal), Mexico\",\"13 km ESE of Yokote, Japan\",\"103 km NW of Constitución, Chile\",\"37 km SSW of Atico, Peru\",\"285 km S of Severo-Kuril’sk, Russia\",\"111 km SSE of Pangai, Tonga\",\"south of the Aleutian Islands\",\"97 km SW of Rabaul, Papua New Guinea\",\"176 km ESE of San Jose Village, Northern Mariana Islands\",\"70 km ENE of La Paz, Philippines\",\"29 km ESE of Takanabe, Japan\",\"47 km ESE of Kalbay, Philippines\",\"156 km NW of Gorontalo, Indonesia\",\"4 km ENE of Karluk, Alaska\",\"245 km E of Melekeok Village, Palau\",\"210 km SSE of Sarangani, Philippines\",\"25 km SE of Malkara, Turkey\",\"46 km ESE of Denali Park, Alaska\",\"26 km W of Paxson, Alaska\",\"32 km NW of Taunggyi, Myanmar\",\"25 km S of Tetitlán, Mexico\",\"253 km WSW of Adak, Alaska\",\"State of Yap, Federated States of Micronesia\",\"74 km ENE of Barcelona, Philippines\",\"108 km NW of Naze, Japan\",\"19 km W of Arteaga, Mexico\",\"128 km SSW of Tarauacá, Brazil\",\"120 km W of Murghob, Tajikistan\",\"The 1911 Kemin Earthquake, Kyrgyzstan\",\"101 km SE of Sarangani, Philippines\",\"47 km ESE of Kirakira, Solomon Islands\",\"56 km N of Port-Olry, Vanuatu\",\"South Sandwich Islands region\",\"47 km WSW of Norsup, Vanuatu\",\"101 km S of Adak, Alaska\",null,\"28 km ESE of Isangel, Vanuatu\",\"268 km SE of Kuril’sk, Russia\",\"163 km NW of Hirara, Japan\",\"Drake Passage\",\"98 km SSE of Inarajan Village, Guam\",\"84 km SE of Honiara, Solomon Islands\",\"66 km SSW of Nuxco, Mexico\",\"58 km SW of Bhag, Pakistan\",\"27 km SSE of San Andrés Playa Encantada (El Podrido), Mexico\",\"52 km ESE of Farkh?r, Afghanistan\",\"50 km WNW of Diego de Almagro, Chile\",\"76 km SSW of Sungai Penuh, Indonesia\",\"65 km ENE of Wewak, Papua New Guinea\",\"167 km WSW of Attu Station, Alaska\",\"150 km ESE of Hasaki, Japan\",\"82 km ENE of Hasaki, Japan\",\"43 km NW of Del?j?n, Iran\",\"7 km SE of Alì Terme, Italy\",\"64 km NNE of Sarupathar, India\",\"159 km ENE of Kuril’sk, Russia\",\"246 km NNW of Rikaze, China\",\"Falkland Islands region\",\"108 km SE of Tondano, Indonesia\",\"15 km SSW of Colonia Luces en el Mar, Mexico\",\"6 km S of Copala, Mexico\",\"5 km N of Capoocan, Philippines\",\"108 km E of Hengchun, Taiwan\",\"92 km SW of San Juan del Sur, Nicaragua\",\"45 km SE of Panjakent, Tajikistan\",\"69 km SSW of La Libertad, Mexico\",\"157 km E of Lakatoro, Vanuatu\",\"151 km S of Attu Station, Alaska\",\"235 km W of Attu Station, Alaska\",\"10 km W of Bigaan, Philippines\",\"116 km SW of Corinto, Nicaragua\",\"Sea of Okhotsk\",\"49 km NNE of Angoram, Papua New Guinea\",\"70 km NE of Sabang Indan, Philippines\",\"7 km N of Luklukan, Philippines\",\"2 km NW of Teojomulco, Mexico\",\"97 km WNW of Sinabang, Indonesia\",\"85 km ESE of Neiafu, Tonga\",\"19 km ESE of Akhiok, Alaska\",\"153 km SE of Halibut Cove, Alaska\",\"95 km WSW of Shihezi, China\",\"108 km SE of Neiafu, Tonga\",\"northwest of Australia\",\"southeast of the Loyalty Islands\",\"24 km SSW of Tirmiz, Uzbekistan\",\"38 km NW of Finschhafen, Papua New Guinea\",\"57 km NNE of Lae, Papua New Guinea\",\"190 km SE of Hasaki, Japan\",\"132 km NNE of Wewak, Papua New Guinea\",\"16 km WNW of La Ligua, Chile\",\"Rat Islands, Aleutian Islands, Alaska\",\"71 km NE of San Vicente, Philippines\",\"230 km W of Abepura, Indonesia\",\"The 1906 San Francisco Earthquake\",\"southeast of the Loyalty Islands\",\"61 km NNW of La Paz, Mexico\",\"41 km ESE of Malango, Solomon Islands\",\"1906 Ecuador-Colombia Earthquake\",\"50 km SSW of ?yama, Japan\",\"Aegean Sea\",\"58 km ENE of Lospalos, Timor Leste\",\"off the east coast of the Kamchatka Peninsula, Russia\",\"188 km E of Atka, Alaska\",\"5 km W of San Nicolò, Italy\",\"121 km WNW of Tosontsengel, Mongolia\",\"106 km N of Tosontsengel, Mongolia\",\"217 km ESE of Kamaishi, Japan\",\"99 km WNW of Kavieng, Papua New Guinea\",\"10 km WNW of Kyelang, India\",\"238 km WSW of Adak, Alaska\",\"south of Tonga\",\"152 km NW of Kimbe, Papua New Guinea\",\"207 km E of Sola, Vanuatu\",\"62 km S of Bhamo, Myanmar\",\"5 km WNW of Adak, Alaska\",\"184 km SW of Adak, Alaska\",\"177 km SW of Kavieng, Papua New Guinea\",\"53 km SSE of Quepos, Costa Rica\",\"150 km WNW of Kangding, China\",\"21 km S of Ester, Alaska\",\"115 km ESE of Petropavlovsk-Kamchatsky, Russia\",\"274 km SE of Petropavlovsk-Kamchatsky, Russia\",\"7 km SE of Stara Kresna, Bulgaria\",\"221 km SW of Nikolski, Alaska\",\"16 km SW of Old Harbor, Alaska\"],\"lat\":[38.0235,37.1662,-7.0652,-19.2881,18.4552,-6.2944,-14.9076,37.7132,-7.5482,-7.6033,-4.4667,-21.1265,-60.2845,18.4335,-58.3753,-57.5674,6.4748,55.3635,34.5983,-29.7228,-29.6768,-37.4787,37.7265,-23.0511,54.602,55.0715,15.8861,-33.2927,48.9638,19.4193,1.6213,-0.5858,35.7695,-6.4078,-30.6441,-5.8119,-4.051,-6.9746,-2.1862,55.0999,-58.5446,-21.9496,61.3464,-0.2559,-18.4743,-22.0295,-11.0355,10.7731,-18.1125,-6.0699,16.3855,56.0039,-15.7675,17.4825,34.9109,18.5499,15.0222,54.4434,-6.2464,4.4782,-43.4064,-4.5049,-10.6812,-42.7373,-0.0456,-55.2852,-22.4765,18.5429,-56.2409,0.3819,-4.9521,53.9776,59.6204,38.2107,-47.6165,-10.0598,-10.5372,36.5244,-14.8595,-31.5729,27.8386,27.8087,-7.2175,-5.4624,28.2305,-4.7294,52.6487,1.8929,-19.6903,12.5262,51.8486,-6.7547,17.397,-11.4633,-11.2701,-6.5858,-20.5709,-19.6097,-60.2738,37.1557,9.8796,-15.8385,26.951,-60.857,-3.917,54.892,-23.009,46.221,28.033,-10.928,-11.183,-10.799,55.228,-6.533,37.89,13.988,52.788,1.929,10.085,10.811,12.139,49.8,0.802,2.327,-35.2,16.493,-17.827,2.433,-7.551,38.721,-28.993,-21.611,-18.311,-18.365,-29.539,52.05,38.276,38.058,36.281,38.297,38.435,28.777,-38.355,-19.702,26.901,-3.487,-1.266,-17.541,6.776,6.497,6.718,-5.931,7.881,-13.698,3.748,2.383,32.2861667,-37.773,-36.122,-8.783,-17.239,-13.093,-12.517,-13.006,-0.72,-15.489,14.099,33.167,-45.762,16.731,-23.043,3.886,46.857,-0.691,-0.414,54.203,1.271,53.882,31.002,-55.664,-20.071,35.49,-2.486,2.768,51.36,-25.996,14.944,-22.247,18.9,-49.271,22.013,-2.625,-4.438,-11.61,-13.386,-5.859,-15.595,-8.466,-20.617,1.065,46.243,21.799,46.592,-9.284,-31.81,-20.187,60.949,-5.473,-19.926,-60.957,34.539,-5.678,-4.539,38.276,7.92,41.292,-19.987,2.085,-6.527,5.293,6.91,3.295,-49.312,-3.609,-46.676,4.695,-8.152,33.184,33.07,-2.427,-17.656,-4.003,-22.253,-22.015,51.146,50.038,41.774,41.815,-45.104,-60.532,-2.598,-7.606,51.272,18.77,-10.491,47.824,63.5141,2.824,-1.757,-3.302,-23.884,-21.696,43.752,13.088,24.279,6.033,36.502,-17.6,-42.813,35.946,-4.102,-36.813,-17.543,-16.265,-29.666,1.271,-4.68,23.419,13.049,-14.928,6.898,-5.496,-5.233,-3.98,28.856,-13.802,-4.721,-23.548,-1.105,22.338,-19.528,-16.925,15.766,-16.423,40.758,34.6033333,16.059,23.772,40.748,-4.751,-5.159,43.607,-5.591,5.397,-12.853,-2.071,28.932,-0.593,22.306,-17.552,-62.877,-23.913,-22.301,-5.495,54.841,35.069,-4.368,-30.933,-22.101,-32.115,33.825,-12.584,29.976,-21.999,18.219,-14.993,-20.69,-7.137,12.614,51.478,51.564,-6.518,-24.061,15.978,-9.593,-0.891,45.324,0.729,-6.903,44.663,28.826,16.84,27.929,19.055,16.779,18.856,-5.771,-5.799,-23.34,-29.211,52.629,-23.008,12.626,12.059,-15.199,-37.759,40.525,13.525,43.905,43.773,40.402,42.34,-16.62,-13.841,-10.477,-18.039,14.717,12.982,42.851,51.218,-10.972,43.3,-6.582,-8.48,7.075,-19.247,11.742,42.142,-22.483,34.2,7.191,7.239,-6.075,40.3353333,-56.032,45.533,4.554,-9.094,-26.802,1.196,9.685,-5.982,-5.097,53.452,-19.435,-15.355,15.679,36.957,11.76,-7.363,5.358,5.121,49.037,1.186,15.125,9.919,-18.318,-22.122,8.337,-6.436,39.837,-52.341,-8.281,2.305,22.789,-18.771,-10.366,25.149,-17.192,56.953,13.477,-24.753,58.679,-6.266,-17.94,-58.893,-19.022,-5.577,0.151,-24.388,-6.088,23.901,-21.702,-28.117,45.547,1.795,-4.448,-22.037,-20.19,51.52,-21.277,-13.966,-1.639,17.802,18.19,36.19,-4.439,-5.599,-34.131,-33.207,-33.135,5.167,0.197,-22.022,8.185,-15.86,-0.086,-4.843,44.117,29.384,8.147,-10.012,33.683,36.372,-6.852,-7.481,-60.665,-26.535,55.867,40.462,8.717,-4.883,-24.133,36.194,27.929,13.332,13.752,-29.934,39.243,18.048,-33.134,-14.96,30.013,-48.786,41.117,-21.89,36.195,-12.525,-12.41,1.598,33.962,-10.615,-46.675,-1.679,19.066,17.813,60.642,16.01,-11.132,33.386,22.282,38.19,42.839,44.244,44.932,-30.683,-31.028,-25.856,-59.426,-11.164,-8.031,-9.965,-9.844,-9.89,-16.696,45.772,39.121,-4.517,6.262,39.664,39.57,-4.603,15.324,-28.427,-16.264,19.333,12.54,-24.894,-7.104,-6.59,35.997,-38.183,53.113,-12.5,-8.42,17.3,-12.265,-38.453,39.457,7.747,-29.082,-7.383,-14.434,-15.117,-14.464,43.318,43.233,50.486,31.398,18.481,33.362,6.405,-6.05,56.724,3.752,-17.76,-5.154,13.402,-25.758,33.453,-11.481,23.107,22.632,-13.248,55.959,52.803,-11.857,46.505,-0.773,41.415,-2.839,-4.817,-5.754,-5.524,-32.601,-4.33,0.653,-3.184,-55.918,-4.026,52.301,-1.597,51.692,-59.232,-9.183,27.236,14.52,15.791,39.098,52.487,6.785,24.185,15.648,57.65,2.005,43.313,43.416,-52.744,32.15,36.033,-3.201,-6.784,-22.797,4.569,-14.849,-7.97,26.358,-30.62,34.158,-10.188,0.157,1.514,16.519,16.316,-30.725,-2.85,-41.659,44.822,41.508,40.86,32.449,-5.42,43.566,-5.208,-21.865,11.925,-21.182,40.751,-9.163,48.168,-12.326,-12.091,-25.494,-10.665,2.388,-10.318,-52.761,24.122,16.081,-16.022,-15.861,-15.449,-56.046,52.99,44.525,-14.805,50.282,-32.522,36.405,51.443,51.251,-2.608,8.855,-48.969,-15.534,18.136,43.222,38.399,-56.323,60.908,-24.749,-4.813,-9.127,-6.957,44.726,44.872,-10.466,-10.522,-17.628,-13.866,-1.05,-0.975,-29.992,46.636,-7.523,24.411,-25.802,7.512,-20.088,-7.351,42.506,38.022,-37.845,-56.332,-59.274,-10.688,-10.75,43.056,-18.307,29.692,39.762,31.739,36.226,36.121,-24.732,-24.678,-6.775,-38.467,-45.785,-38.143,-38.061,-37.775,-37.824,39.635,39.869,-15.008,-28.84,44.63,-7.776,22.078,-20.407,53.257,44.479,-13.428,58.23,24.945,1.011,-12.418,45.189,-20.948,55.75,-20.541,5.327,17.055,56.177,-1.723,40.73,36.405,36.493,-15.02,53.778,51.419,51.196,51.481,52.691,51.499,11.682,36.664,35.155,-15.434,30.206,-5.062,24.319,6.828,29.957,7.658,54.252,-28.336,39.346,23.988,29.112,12.185,36.988,24.057,-3.552,34.006,-13.082,-19.092,-37.093,-4.449,13.809,40.175,52.623,30.648,34.9581667,9.669,42.084,-7.78,-34.229,23.092,23.046,31.056,47.297,23.917,23.487,28.359,16.739,-19.705,-23.977,-18.373,-6.823,14.31,-4.199,10.481,-2.077,28.363,-27.507,-20.253,45.882,17.439,-53.996,-53.972,-5.773,53.673,38.718,39.178,16.529,-37.634,2.428,36.563,41.926,38.084,-21.222,30.124,54.593,19.26,33.157,18.757,-3.196,35.64,-20.222,10.714,43.986,-10.96,64.064,36.808,28.484,21.57,1.153,-1.868,-38.445,-6.487,43.916,-1.102,-38.676,33.498,43.658,33.123,39.811,41.799,-5.204,23.532,24.104,19.124,49.765,-4.623,53.492,-15.691,-5.826,-6.063,24.978,-46.99,57.404,25.699,41.019,33.73,-19.127,-11.823,53.427,14.295,-2.475,-21.578,-0.901,43.293,-0.015,40.66,-5.57,40.867,-5.546,26.705,-30.139,-53.903,18.907,-8.621,41.003,-0.938,-2.84,7.371,13.02,36.301,-31.262,17.397,7.322,-49.885,7.95,-15.041,13.863,-24.373,-0.014,13.144,29.164,-4.138,23.29,8.329,37.301,32.129,0.731,-29.115,-29.781,12.084,-10.837,18.68,-4.251,18.204,45.72,-19.978,44.561,-11.217,52.849,52.224,17.139,39.907,-0.018,9.99,38.513,50.999,29.241,39.93,-9.881,-27.218,-19.924,-1.272,-7.086,-36.296,22.841,37.036,36.482,55.178,37.009,37.382,37.147,36.971,-8.996,2.4,23.807,22.723,42.717,27.659,25.125,-3.146,-19.99,17.987,36.534,-0.045,-6.222,-5.045,16.656,14.569,-6.538,64.626,-8.276,-20.596,44.447,-10.371,35.331,56.017,38.279,3.681,21.963,-24.718,51.197,-7.656,4.264,-4.374,-0.278,-10.367,14.688,40.232,40.176,-3.743,-3.868,43.424,22.331,-22.308,28.958,24.277,31.162,18.494,-11.099,-11.818,7.853,7.689,-10.082,-40.6,-5.346,23.105,17.496,27.275,73.148,-60.251,31.957,-5.183,38.083,39.209,-20.521,-33.983,39.462,43.794,19.242,19.087,19.795,13.198,0.386,31.884,-9.734,-11.118,-5.263,29.745,47.254,46.858,-3.366,37.742,-33.926,40.591,-39.421,-5.356,-39.741,10.873,25.872,16.049,18.17,18.448,38.108,17.733,53.439,44.475,7.568,51.479,51.459,-55.373,-42.001,8.053,51.103,38.107,50.906,10.657,12.944,6.707,-35.712,-35.084,-23.157,16.233,15.877,-5.732,-15.833,16.065,39.875,-5.449,42.351,42.351,16.037,-22.36,-2.347,54.969,-44.861,57.711,34.552,-0.599,-6.763,37.666,-6.668,46.551,-18.284,-2.885,-50.291,-9.531,-9.169,-23.098,-10.358,-8.894,12.292,-10.059,12.734,-0.585,10.702,55.291,-4.121,1.223,21.786,-34.565,-18.735,47.918,8.982,36.199,-49.382,37.141,36.981,-56.191,-21.236,6.625,28.926,-1.211,34.985,35.274,30.93,22.817,35.936,7.641,55.461,54.354,54.486,53.739,40.482,-28.293,-16.287,24.364,41.189,-2.853,-3.918,36.236,7.452,-12.724,-10.046,12.61,-18.904,15.662,36.358,-39.102,45.39,-19.982,-27.475,23.688,-4.967,22.529,-4.806,40.655,-18.322,-30.58,-43.038,-43.814,-19.318,6.808,-26.462,11.466,44.83,-1.505,18.7,44.998,5.538,24.656,-3.094,27.58,7.409,23.609,15.533,-29.849,3.792,-3.705,41.208,25.157,-14.996,54.995,10.913,-31.195,19.496,56.154,49.831,-27.509,10.11,33.7,-31.851,9.451,50.785,29.51,-3.076,-4.756,38.66,14.126,54.05,48.392,23.582,4.206,37.666,16.275,43.227,-4.012,-1.98,-11.3,14.608,39.284,-34.763,-16.534,48.108,-20.68,48.0,-4.789,14.257,9.265,32.033,5.544,1.373,57.592,7.301,3.568,40.73,63.604,63.07,21.031,16.932,51.0,7.273,8.488,29.141,18.362,-9.207,38.289,42.919,4.668,-10.68,-14.532,-59.11,-16.273,50.978,-30.907,-19.601,43.418,25.967,-58.317,12.408,-9.986,16.643,28.668,16.463,36.324,-26.154,-2.713,-3.315,52.244,35.267,35.897,34.306,37.965,26.72,45.599,31.209,-53.96,0.513,16.79,16.546,11.343,22.074,10.679,39.216,29.379,-16.149,51.505,52.59,8.316,11.663,51.086,-3.648,14.67,14.39,16.606,2.681,-19.071,56.85,58.556,43.988,-19.229,-21.244,-22.539,37.032,-6.321,-6.252,34.745,-2.489,-32.4,51.853,19.008,-2.495,37.75,-22.291,24.684,-9.899,0.955,34.175,40.092,-8.277,55.751,52.06,38.636,49.292,49.709,38.417,-2.282,32.597,51.145,-24.363,-4.635,-14.123,23.689,51.89,50.73,-3.586,8.962,30.684,64.66,52.763,51.424,41.758,51.45,57.09],\"legendgroup\":\"\",\"lon\":[37.203,37.0421,130.0047,-172.1471,-102.9561,146.5038,-70.2924,141.5793,127.5773,122.2274,-76.8126,174.8958,-24.8743,-73.4822,-25.2637,-25.0316,126.7151,-157.8876,98.2513,-177.2794,-177.8398,179.4576,141.7751,171.6566,-159.6258,-158.596,-96.0077,-177.8571,157.6955,-78.756,126.4156,128.034,-117.5993333,129.1692,-178.0995,-75.2697,152.5967,146.4494,-77.0505,164.6993,-26.3856,169.4266,-149.9552,119.8462,179.3502,170.1262,-70.8284,-62.9019,-178.153,142.7536,-97.9787,-149.1658,-74.7092,-83.52,45.9592,-98.4887,-93.8993,168.857,155.1718,122.6171,-73.9413,153.5216,161.3273,173.054,-17.8255,-31.8766,173.1167,145.5073,-26.9353,-79.9218,94.3299,158.5463,-153.3392,72.7797,85.0913,-71.0184,-70.9437,70.3676,167.3028,-71.6744,140.4931,86.0655,154.5567,151.8751,84.7314,152.5623,-31.9016,126.5217,-177.7587,-88.1225,178.7352,155.0241,-100.9723,162.0511,162.1481,155.0485,-70.4931,-70.7691,-46.4011,144.6611,124.1167,-74.5112,65.5009,-25.07,153.927,153.221,-177.232,150.788,61.996,166.018,164.882,165.114,-134.8591,129.825,143.949,-91.895,-132.101,-76.362,-85.315,126.638,-88.59,145.064,92.463,93.063,-72.217,-98.231,167.133,93.21,146.809,43.508,-176.238,-179.528,168.218,168.143,-176.34,-171.836,141.588,144.59,141.111,142.373,142.842,63.951,-73.326,167.947,143.698,100.082,-77.306,168.069,123.259,123.48,123.409,150.59,91.936,166.643,96.018,97.048,-115.2953333,-75.048,-72.898,157.354,178.331,166.497,166.382,166.51,99.867,-172.095,92.902,137.944,166.562,-86.217,-174.66,126.387,155.154,133.305,132.885,154.322,122.091,152.886,103.322,158.453,168.892,81.467,99.972,95.964,-179.509,-177.514,-61.274,-69.89,145.388,164.115,142.668,100.841,101.367,165.762,-76.603,107.419,167.68,157.043,169.357,126.282,154.524,120.547,153.266,107.419,-179.307,-174.123,167.089,128.131,-178.178,-21.606,73.588,-76.398,153.474,142.039,92.19,-125.953,-69.197,97.108,129.933,123.337,92.958,95.982,161.345,135.404,164.721,-77.508,124.868,137.071,136.618,103.981,-178.76,135.023,169.683,169.766,178.65,87.813,143.593,143.91,167.144,-43.411,68.382,-71.722,177.978,-104.104,160.77,146.209,-147.4529,96.085,134.297,142.945,178.495,-179.513,130.666,144.619,122.179,124.249,70.482,167.856,124.688,90.541,123.907,-179.575,-72.077,-73.641,-178.633,126.249,102.562,70.232,-88.66,167.17,126.579,151.781,153.102,152.169,139.556,97.453,102.087,-66.452,123.573,143.73,173.818,-174.248,119.74,168.214,31.161,-116.265,-96.931,120.982,29.864,152.486,150.88,130.35,149.568,121.937,166.697,124.891,139.329,-80.393,125.308,-179.092,149.527,-70.207,170.911,147.867,162.035,87.325,-76.681,-71.22,-176.772,179.791,59.809,166.676,68.208,-65.719,-102.756,-75.675,-178.31,122.589,125.154,-176.847,-177.632,154.999,-177.036,-98.07,-79.587,136.952,149.892,119.931,129.151,149.3,34.799,-93.469,130.175,-104.205,-98.597,145.218,154.347,154.178,-70.294,-177.589,142.827,169.9,125.297,125.58,-173.529,178.752,143.419,121.067,147.916,147.321,-125.68,132.865,167.518,-67.553,112.835,-178.413,-92.645,144.801,139.197,157.829,164.181,143.691,130.393,121.896,-76.862,168.948,-87.34,73.575,-178.413,-116.437,126.762,126.645,147.572,-124.2286667,-25.266,151.021,-77.442,158.442,-63.349,122.787,-83.073,-77.094,150.967,169.871,169.132,167.464,121.172,49.409,121.899,120.363,31.848,32.145,141.847,122.857,147.596,-84.808,168.063,175.163,126.729,146.383,142.76,160.568,-71.381,126.76,99.611,-172.415,160.819,95.127,-72.305,-143.032,124.616,-70.433,-142.786,149.06,-172.225,158.513,-69.991,130.791,-77.821,-70.161,147.689,121.574,-176.616,-176.367,26.316,126.519,143.943,-178.925,178.86,-174.776,170.102,166.516,134.911,-101.647,-102.533,70.896,152.828,151.045,-71.618,-71.663,-71.871,125.124,98.027,170.95,-38.794,-173.643,122.517,151.577,148.192,138.935,123.762,160.469,136.894,70.738,72.11,128.168,-25.451,-70.563,161.287,139.102,-83.123,153.581,-175.864,141.702,136.967,-89.387,124.358,-177.741,25.227,-102.084,-73.074,-173.085,57.794,164.357,-124.253,169.853,1.354,165.916,166.381,-79.358,59.726,161.284,165.707,136.04,122.096,-101.276,-141.593,-96.591,162.136,57.434,121.512,142.028,78.606,148.862,148.439,-177.358,-67.767,-175.406,-20.508,118.378,155.538,160.731,160.822,160.348,-172.095,26.761,44.029,139.918,124.023,118.401,117.978,140.091,-89.101,-177.657,-172.467,-155.0015,125.993,-175.119,155.152,155.054,-17.649,-73.232,173.497,-77.786,154.034,-62.0,-77.795,-73.431,73.83,-77.688,-175.954,155.575,166.863,166.896,166.601,146.442,145.785,156.584,100.581,-102.996,140.827,126.64,152.932,-135.853,124.221,-175.066,154.191,120.275,179.665,140.929,166.339,121.974,122.269,166.407,163.269,159.199,166.557,141.199,-22.082,143.416,-77.322,153.172,153.868,153.85,-71.076,102.285,98.711,139.722,-2.668,-80.542,151.613,-72.532,-131.055,158.902,-78.737,140.23,-92.653,121.63,29.57,-174.915,126.682,102.543,-59.694,163.554,94.489,147.647,147.814,160.309,131.938,-10.613,118.904,126.581,178.82,127.306,167.345,158.888,140.635,-177.914,59.083,159.914,119.802,126.234,-97.739,122.067,-178.217,139.353,172.02,150.219,142.888,143.435,132.269,153.368,146.741,153.742,-69.939,-85.872,-179.186,30.8,-71.274,103.036,166.491,166.552,-70.55,-78.228,128.49,161.006,160.106,122.583,-95.867,166.97,167.092,166.98,157.922,-167.739,148.924,167.495,177.959,-71.233,70.724,179.605,178.715,125.952,93.101,164.285,167.666,-100.605,146.159,139.29,-27.655,-147.339,-176.844,108.045,-71.483,129.605,150.547,149.483,165.36,165.642,-178.684,-69.414,128.043,128.07,-177.675,154.783,146.308,122.094,-63.21,-82.729,-177.459,128.218,143.734,142.789,-72.885,-27.345,-26.801,-70.925,-70.775,145.101,168.29,131.683,77.712,131.475,141.815,141.758,-70.297,-176.248,-80.918,-75.031,-72.889,-73.407,-73.039,-73.017,-73.353,143.316,143.228,-74.867,-177.209,-110.891,156.328,121.105,-68.862,159.732,148.485,-69.388,-136.712,124.327,-79.489,166.684,99.368,-66.713,161.134,-178.349,127.005,-99.092,116.409,136.592,31.09,28.699,28.829,-173.381,-165.771,-178.87,-176.733,-177.243,-169.191,-175.626,-86.556,25.957,67.607,-178.803,138.102,152.855,142.412,93.869,101.759,123.157,160.884,-175.599,-117.981,143.022,-113.024,58.0,-3.612,143.467,-80.636,141.625,166.464,169.635,-72.866,152.868,-61.216,27.648,159.779,91.601,-118.998,127.099,143.899,126.493,57.47,121.214,121.249,91.261,154.05,121.343,121.4,139.405,-98.482,-175.874,-67.912,167.654,129.183,-91.917,128.233,-85.046,138.151,96.445,-62.838,169.723,143.491,121.538,-70.057,-69.562,154.194,-133.015,26.48,70.835,147.463,-72.713,127.657,70.698,84.237,58.364,-173.891,100.391,-161.161,-69.716,135.74,118.926,127.181,27.158,-178.557,122.235,140.738,-74.676,-148.569,21.916,93.628,145.469,126.079,135.017,178.909,148.758,148.482,137.839,178.533,99.491,148.376,135.905,54.638,71.82,153.34,95.705,95.575,-69.103,-125.019,153.092,-162.832,167.47,150.043,150.18,63.675,165.955,163.664,143.634,142.05,136.2,169.184,166.225,159.75,-92.911,152.548,-179.44,134.028,83.874,75.313,32.998,153.666,33.651,134.085,93.829,-177.746,158.761,-67.118,109.842,143.396,100.937,102.195,127.277,124.304,141.662,-71.368,-101.37,-35.553,30.465,122.47,-75.025,-91.162,-70.04,-79.982,120.423,130.834,135.102,120.419,-83.694,-18.966,131.944,122.835,-177.851,-177.597,92.65,166.279,-102.989,151.94,147.462,26.426,-70.425,139.678,-77.438,173.551,173.778,148.059,39.586,122.793,-84.412,143.07,174.959,-113.513,139.637,159.829,-70.875,169.055,89.324,155.388,-72.213,121.52,142.002,143.02,-158.181,142.485,142.305,142.241,142.065,122.726,126.514,121.506,93.912,75.947,129.476,125.308,126.75,168.78,120.058,141.459,120.537,147.561,131.614,-98.338,121.675,116.479,-146.82,-79.628,-177.315,149.733,162.615,97.761,163.386,142.235,97.578,121.24,-70.155,160.811,156.508,126.379,133.32,98.242,161.411,-92.438,144.06,143.378,142.642,141.379,146.618,121.284,171.468,66.436,120.686,89.157,-105.307,165.967,166.413,-82.513,126.662,160.819,175.954,150.649,144.009,119.292,86.941,-70.072,-27.086,103.669,104.63,142.484,144.59,-70.192,57.677,96.562,136.619,-104.383,-103.551,-103.931,-87.862,125.884,132.043,161.151,161.195,102.266,67.391,89.898,89.888,142.031,-16.165,-71.556,142.422,176.129,102.594,176.316,144.461,96.764,-96.486,96.336,146.688,44.727,96.406,172.202,-55.987,142.746,-177.746,-178.153,-29.345,173.208,126.0,-130.722,57.642,-169.786,-42.016,-90.697,124.245,-72.74,-72.267,-70.057,-97.434,-98.229,-78.982,170.902,-96.944,142.822,-78.658,25.044,25.641,-96.155,170.395,88.463,160.343,-72.686,-136.485,141.489,131.737,130.561,102.493,122.012,153.581,167.756,139.239,159.493,159.465,110.63,172.219,161.623,157.462,-88.801,159.281,124.719,130.803,-42.279,167.198,143.515,126.303,121.096,58.728,168.57,153.743,126.942,141.34,159.224,83.486,84.186,158.481,-178.738,126.167,130.311,129.554,139.928,139.344,131.032,98.711,141.501,124.873,163.241,159.656,160.472,160.813,-125.034,-69.852,-72.705,122.0,-125.608,-71.438,-71.52,70.674,127.151,166.945,110.653,-87.216,-173.037,-90.791,105.554,-73.462,149.741,168.478,-67.867,121.954,152.017,121.787,153.859,145.626,-172.442,-177.991,-71.306,-78.294,-178.08,126.526,-70.65,-43.625,151.993,149.511,-67.189,152.32,123.994,90.801,143.573,-111.087,-34.906,117.004,-96.755,-177.839,-73.649,141.729,143.747,126.432,-173.27,-159.883,144.408,-176.653,-78.144,163.174,157.886,-63.541,-83.564,141.759,54.766,-87.336,179.032,131.875,135.676,152.626,143.004,-89.007,162.089,155.0,123.668,128.022,30.125,-60.212,91.616,101.638,136.944,162.725,-93.976,140.698,-73.309,-73.738,156.059,-173.808,-178.0,151.512,147.09,126.843,131.795,125.891,121.928,-154.389,136.855,125.973,27.121,-148.03,-146.14,96.859,-100.665,180.0,137.021,127.029,128.803,-102.471,-71.267,72.596,76.808,126.017,162.292,167.057,-23.942,167.013,-176.351,-177.099,169.547,150.109,124.304,-65.477,144.951,160.485,-100.966,67.404,-99.529,70.357,-70.502,101.188,144.171,170.919,142.387,141.719,50.396,15.487,97.117,149.844,87.679,-56.837,125.487,-100.054,-98.986,124.647,121.788,-86.49,67.999,-113.059,168.892,172.814,169.73,126.188,-87.847,150.453,144.242,123.382,122.72,-97.246,95.53,-173.306,-153.9,-149.472,84.93,-173.156,108.498,171.614,67.132,147.589,147.216,142.542,144.187,-71.4,178.18,122.582,138.56,-122.55,171.324,-110.436,160.04,-79.369,138.025,24.627,127.465,163.952,-171.45,15.784,96.843,98.483,144.119,149.949,76.916,-179.859,-173.399,149.105,169.457,97.17,-176.702,-178.55,149.551,-84.042,100.608,-148.08,160.277,161.638,23.249,-171.02,-153.48],\"marker\":{\"color\":[7.5,7.8,7.6,7.3,7.6,7.6,7.2,7.3,7.3,7.3,7.5,7.3,7.1,7.2,8.1,7.5,7.1,8.2,7.3,8.1,7.4,7.3,7.1,7.7,7.6,7.8,7.4,7.4,7.5,7.7,7.1,7.2,7.1,7.3,7.3,8.0,7.6,7.1,7.5,7.3,7.1,7.5,7.1,7.5,7.9,7.1,7.1,7.3,8.2,7.5,7.2,7.9,7.1,7.5,7.3,7.1,8.2,7.7,7.9,7.3,7.6,7.9,7.8,7.8,7.1,7.4,7.2,7.7,7.2,7.8,7.8,7.2,7.1,7.2,7.1,7.6,7.6,7.5,7.1,8.3,7.8,7.3,7.1,7.5,7.8,7.5,7.1,7.1,7.1,7.3,7.9,7.5,7.2,7.4,7.6,7.1,7.7,8.2,7.7,7.1,7.1,7.1,7.7,7.3,7.3,8.3,7.4,7.2,7.7,7.1,7.1,8.0,7.5,7.1,7.3,7.4,7.8,7.3,7.6,7.6,7.3,7.7,8.2,8.6,7.1,7.4,7.1,7.2,7.1,7.1,7.4,7.3,7.1,7.2,7.6,7.3,7.1,7.7,7.9,9.1,7.3,7.2,7.2,7.3,7.4,7.8,7.1,7.3,7.5,7.6,7.3,7.3,7.5,7.2,7.2,7.8,7.2,7.4,8.8,7.1,7.3,7.4,7.8,7.7,7.6,8.1,7.5,7.1,7.8,7.3,7.6,7.2,7.4,7.4,7.7,7.3,7.4,7.7,7.9,7.1,7.3,7.2,7.2,7.4,7.2,7.8,7.4,7.7,7.2,7.4,7.5,7.9,8.4,7.2,8.0,7.5,7.2,8.1,7.1,7.5,8.1,7.1,8.3,7.7,7.4,8.0,7.6,7.6,7.2,7.4,7.6,7.5,7.6,7.2,7.2,7.2,7.8,8.6,7.1,7.1,7.2,9.1,8.1,7.1,7.1,7.2,7.5,7.4,7.2,7.3,7.1,7.3,7.1,7.3,7.8,7.3,7.4,8.16,7.2,7.6,7.6,7.1,7.1,7.6,7.3,7.3,7.9,7.4,7.6,7.6,7.7,7.7,7.3,7.1,7.1,7.5,7.4,7.2,7.1,7.8,7.5,7.1,7.6,8.4,7.2,7.1,7.4,7.7,7.7,7.1,7.5,7.8,7.8,8.0,7.4,7.9,7.9,7.2,7.6,7.6,7.1,7.2,7.3,7.5,7.2,7.1,7.5,7.7,7.6,7.1,7.1,7.1,7.4,7.1,7.3,7.7,7.1,7.2,7.5,7.2,8.1,7.1,7.5,7.2,7.8,7.5,7.2,7.1,7.8,7.1,7.3,7.7,7.1,7.1,7.2,7.7,7.4,7.9,7.1,7.3,7.9,7.2,7.2,7.1,7.5,8.09,7.2,7.9,7.1,7.9,7.2,7.2,7.1,8.0,7.4,7.1,7.2,7.7,8.0,7.2,7.1,7.7,7.1,7.2,7.4,7.1,7.8,7.1,7.3,8.3,7.1,7.3,7.2,8.2,7.8,7.6,7.2,7.8,7.7,7.5,7.1,7.6,7.3,7.8,7.2,7.4,7.7,7.3,7.2,7.3,7.3,7.1,7.2,7.2,7.2,7.6,7.2,7.2,7.3,7.5,7.6,7.1,7.5,7.1,7.1,7.2,7.7,7.4,7.1,7.1,7.1,7.2,7.2,7.8,7.6,7.3,7.1,7.6,7.6,7.1,7.4,8.02,7.1,7.1,7.7,7.1,7.6,7.3,7.1,7.8,7.3,7.2,7.9,7.4,7.3,7.4,7.2,7.1,7.2,7.6,7.4,7.4,7.2,7.7,7.2,7.5,7.2,7.1,7.1,8.0,7.1,7.1,7.1,7.6,8.0,7.4,7.3,7.2,7.2,7.4,8.0,7.5,7.1,7.1,7.1,7.2,7.4,7.1,7.2,7.4,7.3,7.6,7.2,7.4,7.3,7.3,7.2,7.4,7.1,7.4,7.1,7.6,7.2,7.1,7.1,7.29,7.1,7.1,7.2,7.3,7.2,7.7,7.1,7.6,7.2,7.2,7.3,7.9,7.5,7.7,7.1,7.1,7.4,7.9,7.1,7.6,7.1,7.7,7.1,7.4,7.4,7.7,7.1,7.6,7.5,7.2,7.4,7.2,7.1,8.31,7.2,7.5,7.5,7.5,7.6,7.5,7.3,7.1,7.9,7.4,7.5,7.1,7.5,8.0,7.8,7.7,7.2,7.8,7.7,7.9,7.9,7.7,7.6,7.2,7.2,7.5,7.6,7.1,7.3,7.3,7.2,7.1,7.2,7.2,7.5,7.1,7.7,7.2,7.4,7.5,7.4,8.0,7.5,7.6,7.72,7.06,7.2,7.45,7.25,7.16,7.4,7.11,7.3,7.05,7.62,7.3,7.1,7.3,7.06,7.12,7.42,8.1,7.05,8.0,7.8,7.02,7.04,7.7,7.08,7.2,7.31,8.0,7.37,7.3,7.9,7.12,7.3,7.44,7.23,7.11,7.2,7.1,7.2,7.44,7.59,7.12,8.2,7.04,7.02,7.8,7.03,7.22,7.22,7.6,7.1,7.04,7.31,7.1,7.1,7.27,7.21,7.61,7.3,7.6,7.3,7.5,7.06,7.04,7.9,8.2,7.5,7.3,7.37,7.15,7.3,7.08,7.23,7.29,7.01,7.05,7.13,7.8,7.67,8.1,7.71,7.1,7.02,7.5,7.4,7.4,7.6,7.2,7.3,7.8,7.01,7.7,7.6,7.4,7.44,7.34,8.7,8.2,7.1,7.02,7.16,7.28,7.12,7.6,7.8,9.2,7.6,7.04,7.63,8.1,7.8,8.5,7.21,7.4,7.03,7.67,7.07,7.13,7.3,7.65,7.5,7.2,7.15,7.18,7.47,7.1,7.1,7.3,7.1,7.1,7.3,7.2,7.6,7.02,7.33,7.03,7.04,7.54,7.03,7.2,7.3,7.2,7.6,7.4,7.7,9.5,7.8,7.14,8.1,7.01,7.95,7.1,7.31,7.2,7.01,7.22,7.1,7.9,8.3,7.5,7.8,7.15,7.6,7.8,8.1,7.7,7.6,7.4,7.25,7.6,7.4,7.1,7.09,7.3,7.1,7.08,7.07,7.18,7.14,7.11,7.06,8.6,7.1,7.7,7.27,7.6,7.3,7.31,7.2,7.05,7.09,7.37,7.16,7.52,7.1,7.2,7.21,7.1,7.8,7.2,7.32,7.9,7.11,7.2,7.55,7.38,7.3,7.3,9.0,7.4,7.5,7.34,8.1,7.02,7.53,7.81,7.34,7.7,7.02,7.23,7.48,7.1,7.1,7.8,8.2,7.9,7.7,7.17,7.3,7.5,7.2,8.6,7.1,7.07,7.7,7.21,7.58,7.69,7.21,8.0,7.16,7.5,7.1,7.01,7.05,7.5,7.36,7.15,7.5,7.3,7.1,7.13,7.44,7.14,7.14,7.3,7.1,7.8,7.1,7.6,7.07,7.3,7.3,7.2,7.08,7.6,7.58,7.43,7.06,7.3,7.67,7.58,7.2,8.3,7.02,7.54,7.68,7.64,7.07,7.76,7.5,7.06,8.6,7.07,7.46,7.1,8.1,7.5,7.13,7.2,7.17,8.1,7.2,7.14,7.08,7.04,7.26,7.3,7.6,7.28,7.36,7.6,7.15,7.5,7.65,7.18,7.03,7.52,7.7,7.44,7.31,7.73,7.38,7.76,7.36,7.13,8.1,7.4,7.12,8.0,7.27,8.1,7.7,7.06,7.8,7.63,7.02,7.06,7.22,7.47,7.84,8.02,7.43,7.1,7.19,7.96,7.39,7.6,7.19,7.7,7.74,7.21,7.5,8.2,7.05,7.04,7.5,7.8,8.1,7.59,7.41,7.24,7.19,7.19,7.83,7.42,7.06,7.5,7.82,7.85,7.02,7.04,7.11,8.23,7.6,7.7,7.7,7.8,7.16,7.22,7.09,7.02,7.03,7.6,7.66,7.08,7.03,7.07,7.7,7.7,7.55,8.5,7.4,7.64,7.1,7.12,7.11,7.3,7.44,7.21,7.81,7.32,7.25,7.06,7.13,7.52,7.46,7.27,7.75,7.13,7.6,7.6,7.31,7.19,7.12,7.02,7.83,7.46,7.09,7.14,7.61,7.05,7.32,7.04,7.3,7.7,7.5,7.17,7.02,7.2,7.03,7.5,7.5,8.0,7.44,7.46,7.38,7.52,7.25,8.4,7.28,7.13,7.84,7.1,7.7,7.8,8.1,7.09,7.7,7.93,7.84,7.83,7.34,7.2,7.25,7.9,7.08,7.22,7.2,7.92,7.3,7.02,7.4,7.2,7.58,7.6,7.52,7.2,7.1,7.43,7.86,7.2,7.05,7.33,7.01,8.1,7.3,7.21,7.48,7.2,7.8,7.04,7.03,7.42,7.23,7.7,7.03,7.51,7.36,7.09,7.07,7.99,7.34,7.28,7.1,7.1,7.44,7.56,7.7,7.19,7.04,7.24,7.01,7.05,7.49,7.7,7.02,7.03,7.09,7.56,7.47,7.09,7.1,7.04,7.32,7.1,7.13,7.48,7.24,7.27,7.11,7.02,7.04,7.13,7.13,7.04,7.18,7.24,7.19,7.13,7.14,7.26,7.32,7.65,7.1,8.12,7.18,7.41,7.85,7.96,7.37,7.26,7.22,7.18,7.38,7.3,8.4,7.27,7.12,8.5,7.21,7.69,7.41,7.9,7.3,7.8,7.44,7.02,7.58,7.2,7.39,7.11,7.94,7.29,7.08,8.09,7.03,8.23,7.81,7.4,8.15,7.71,8.1,7.18,7.18,7.28,7.8,7.21,8.01,7.06,7.83,7.24,7.1,8.1,8.3,7.14,7.58,7.01,7.26,7.37,7.18,7.5,7.05,7.45,7.11,7.32,8.0,7.4,7.13,8.2,7.05,7.98,7.36,7.08,7.14,7.01,7.15,7.26,7.05,7.41,7.66,7.96,7.6,7.7,7.34,7.83,7.21,7.48,7.06,7.04,7.42,7.55,8.15,7.29,7.2,7.04,7.69,7.73,7.03,7.79,7.2,7.36,7.04,7.19,7.21,7.88,7.11,7.08,7.64,7.49,7.23,7.27,7.2,7.88,7.51,7.1,7.83,7.7,7.9,7.6,7.38,7.23,8.02,7.61,7.46,7.18,7.22,7.41,7.02,7.1,7.84,7.15,8.1,7.11,7.01,7.04,7.07,7.16,7.5,7.7,7.48,7.58,7.06,7.01,7.11,7.03,7.3,7.09,7.18,7.23,7.04,7.42,7.26,7.18,7.46,7.11,7.22,7.29,7.44,7.44,7.1,7.37,7.4,7.06,7.17,7.65,7.26,7.44,7.52,7.8,8.2,7.3,7.3,7.03,7.95,7.23,7.37,7.21,7.1,7.63,8.0,7.29,7.13,8.2,8.3,7.09,7.84,7.9,7.12,7.29,7.3,8.8,7.4,7.24,7.16,7.84,7.4,7.19,8.33,7.95,7.67,7.15,7.9,7.18,7.36,7.01,7.33,7.26,7.59,7.3,7.42,7.29,7.09,7.3,7.7,7.5,7.02,7.1,7.86],\"coloraxis\":\"coloraxis\",\"symbol\":\"circle\"},\"mode\":\"markers\",\"name\":\"\",\"showlegend\":false,\"type\":\"scattergeo\"}],                        {\"template\":{\"data\":{\"histogram2dcontour\":[{\"type\":\"histogram2dcontour\",\"colorbar\":{\"outlinewidth\":0,\"ticks\":\"\"},\"colorscale\":[[0.0,\"#0d0887\"],[0.1111111111111111,\"#46039f\"],[0.2222222222222222,\"#7201a8\"],[0.3333333333333333,\"#9c179e\"],[0.4444444444444444,\"#bd3786\"],[0.5555555555555556,\"#d8576b\"],[0.6666666666666666,\"#ed7953\"],[0.7777777777777778,\"#fb9f3a\"],[0.8888888888888888,\"#fdca26\"],[1.0,\"#f0f921\"]]}],\"choropleth\":[{\"type\":\"choropleth\",\"colorbar\":{\"outlinewidth\":0,\"ticks\":\"\"}}],\"histogram2d\":[{\"type\":\"histogram2d\",\"colorbar\":{\"outlinewidth\":0,\"ticks\":\"\"},\"colorscale\":[[0.0,\"#0d0887\"],[0.1111111111111111,\"#46039f\"],[0.2222222222222222,\"#7201a8\"],[0.3333333333333333,\"#9c179e\"],[0.4444444444444444,\"#bd3786\"],[0.5555555555555556,\"#d8576b\"],[0.6666666666666666,\"#ed7953\"],[0.7777777777777778,\"#fb9f3a\"],[0.8888888888888888,\"#fdca26\"],[1.0,\"#f0f921\"]]}],\"heatmap\":[{\"type\":\"heatmap\",\"colorbar\":{\"outlinewidth\":0,\"ticks\":\"\"},\"colorscale\":[[0.0,\"#0d0887\"],[0.1111111111111111,\"#46039f\"],[0.2222222222222222,\"#7201a8\"],[0.3333333333333333,\"#9c179e\"],[0.4444444444444444,\"#bd3786\"],[0.5555555555555556,\"#d8576b\"],[0.6666666666666666,\"#ed7953\"],[0.7777777777777778,\"#fb9f3a\"],[0.8888888888888888,\"#fdca26\"],[1.0,\"#f0f921\"]]}],\"heatmapgl\":[{\"type\":\"heatmapgl\",\"colorbar\":{\"outlinewidth\":0,\"ticks\":\"\"},\"colorscale\":[[0.0,\"#0d0887\"],[0.1111111111111111,\"#46039f\"],[0.2222222222222222,\"#7201a8\"],[0.3333333333333333,\"#9c179e\"],[0.4444444444444444,\"#bd3786\"],[0.5555555555555556,\"#d8576b\"],[0.6666666666666666,\"#ed7953\"],[0.7777777777777778,\"#fb9f3a\"],[0.8888888888888888,\"#fdca26\"],[1.0,\"#f0f921\"]]}],\"contourcarpet\":[{\"type\":\"contourcarpet\",\"colorbar\":{\"outlinewidth\":0,\"ticks\":\"\"}}],\"contour\":[{\"type\":\"contour\",\"colorbar\":{\"outlinewidth\":0,\"ticks\":\"\"},\"colorscale\":[[0.0,\"#0d0887\"],[0.1111111111111111,\"#46039f\"],[0.2222222222222222,\"#7201a8\"],[0.3333333333333333,\"#9c179e\"],[0.4444444444444444,\"#bd3786\"],[0.5555555555555556,\"#d8576b\"],[0.6666666666666666,\"#ed7953\"],[0.7777777777777778,\"#fb9f3a\"],[0.8888888888888888,\"#fdca26\"],[1.0,\"#f0f921\"]]}],\"surface\":[{\"type\":\"surface\",\"colorbar\":{\"outlinewidth\":0,\"ticks\":\"\"},\"colorscale\":[[0.0,\"#0d0887\"],[0.1111111111111111,\"#46039f\"],[0.2222222222222222,\"#7201a8\"],[0.3333333333333333,\"#9c179e\"],[0.4444444444444444,\"#bd3786\"],[0.5555555555555556,\"#d8576b\"],[0.6666666666666666,\"#ed7953\"],[0.7777777777777778,\"#fb9f3a\"],[0.8888888888888888,\"#fdca26\"],[1.0,\"#f0f921\"]]}],\"mesh3d\":[{\"type\":\"mesh3d\",\"colorbar\":{\"outlinewidth\":0,\"ticks\":\"\"}}],\"scatter\":[{\"fillpattern\":{\"fillmode\":\"overlay\",\"size\":10,\"solidity\":0.2},\"type\":\"scatter\"}],\"parcoords\":[{\"type\":\"parcoords\",\"line\":{\"colorbar\":{\"outlinewidth\":0,\"ticks\":\"\"}}}],\"scatterpolargl\":[{\"type\":\"scatterpolargl\",\"marker\":{\"colorbar\":{\"outlinewidth\":0,\"ticks\":\"\"}}}],\"bar\":[{\"error_x\":{\"color\":\"#2a3f5f\"},\"error_y\":{\"color\":\"#2a3f5f\"},\"marker\":{\"line\":{\"color\":\"#E5ECF6\",\"width\":0.5},\"pattern\":{\"fillmode\":\"overlay\",\"size\":10,\"solidity\":0.2}},\"type\":\"bar\"}],\"scattergeo\":[{\"type\":\"scattergeo\",\"marker\":{\"colorbar\":{\"outlinewidth\":0,\"ticks\":\"\"}}}],\"scatterpolar\":[{\"type\":\"scatterpolar\",\"marker\":{\"colorbar\":{\"outlinewidth\":0,\"ticks\":\"\"}}}],\"histogram\":[{\"marker\":{\"pattern\":{\"fillmode\":\"overlay\",\"size\":10,\"solidity\":0.2}},\"type\":\"histogram\"}],\"scattergl\":[{\"type\":\"scattergl\",\"marker\":{\"colorbar\":{\"outlinewidth\":0,\"ticks\":\"\"}}}],\"scatter3d\":[{\"type\":\"scatter3d\",\"line\":{\"colorbar\":{\"outlinewidth\":0,\"ticks\":\"\"}},\"marker\":{\"colorbar\":{\"outlinewidth\":0,\"ticks\":\"\"}}}],\"scattermapbox\":[{\"type\":\"scattermapbox\",\"marker\":{\"colorbar\":{\"outlinewidth\":0,\"ticks\":\"\"}}}],\"scatterternary\":[{\"type\":\"scatterternary\",\"marker\":{\"colorbar\":{\"outlinewidth\":0,\"ticks\":\"\"}}}],\"scattercarpet\":[{\"type\":\"scattercarpet\",\"marker\":{\"colorbar\":{\"outlinewidth\":0,\"ticks\":\"\"}}}],\"carpet\":[{\"aaxis\":{\"endlinecolor\":\"#2a3f5f\",\"gridcolor\":\"white\",\"linecolor\":\"white\",\"minorgridcolor\":\"white\",\"startlinecolor\":\"#2a3f5f\"},\"baxis\":{\"endlinecolor\":\"#2a3f5f\",\"gridcolor\":\"white\",\"linecolor\":\"white\",\"minorgridcolor\":\"white\",\"startlinecolor\":\"#2a3f5f\"},\"type\":\"carpet\"}],\"table\":[{\"cells\":{\"fill\":{\"color\":\"#EBF0F8\"},\"line\":{\"color\":\"white\"}},\"header\":{\"fill\":{\"color\":\"#C8D4E3\"},\"line\":{\"color\":\"white\"}},\"type\":\"table\"}],\"barpolar\":[{\"marker\":{\"line\":{\"color\":\"#E5ECF6\",\"width\":0.5},\"pattern\":{\"fillmode\":\"overlay\",\"size\":10,\"solidity\":0.2}},\"type\":\"barpolar\"}],\"pie\":[{\"automargin\":true,\"type\":\"pie\"}]},\"layout\":{\"autotypenumbers\":\"strict\",\"colorway\":[\"#636efa\",\"#EF553B\",\"#00cc96\",\"#ab63fa\",\"#FFA15A\",\"#19d3f3\",\"#FF6692\",\"#B6E880\",\"#FF97FF\",\"#FECB52\"],\"font\":{\"color\":\"#2a3f5f\"},\"hovermode\":\"closest\",\"hoverlabel\":{\"align\":\"left\"},\"paper_bgcolor\":\"white\",\"plot_bgcolor\":\"#E5ECF6\",\"polar\":{\"bgcolor\":\"#E5ECF6\",\"angularaxis\":{\"gridcolor\":\"white\",\"linecolor\":\"white\",\"ticks\":\"\"},\"radialaxis\":{\"gridcolor\":\"white\",\"linecolor\":\"white\",\"ticks\":\"\"}},\"ternary\":{\"bgcolor\":\"#E5ECF6\",\"aaxis\":{\"gridcolor\":\"white\",\"linecolor\":\"white\",\"ticks\":\"\"},\"baxis\":{\"gridcolor\":\"white\",\"linecolor\":\"white\",\"ticks\":\"\"},\"caxis\":{\"gridcolor\":\"white\",\"linecolor\":\"white\",\"ticks\":\"\"}},\"coloraxis\":{\"colorbar\":{\"outlinewidth\":0,\"ticks\":\"\"}},\"colorscale\":{\"sequential\":[[0.0,\"#0d0887\"],[0.1111111111111111,\"#46039f\"],[0.2222222222222222,\"#7201a8\"],[0.3333333333333333,\"#9c179e\"],[0.4444444444444444,\"#bd3786\"],[0.5555555555555556,\"#d8576b\"],[0.6666666666666666,\"#ed7953\"],[0.7777777777777778,\"#fb9f3a\"],[0.8888888888888888,\"#fdca26\"],[1.0,\"#f0f921\"]],\"sequentialminus\":[[0.0,\"#0d0887\"],[0.1111111111111111,\"#46039f\"],[0.2222222222222222,\"#7201a8\"],[0.3333333333333333,\"#9c179e\"],[0.4444444444444444,\"#bd3786\"],[0.5555555555555556,\"#d8576b\"],[0.6666666666666666,\"#ed7953\"],[0.7777777777777778,\"#fb9f3a\"],[0.8888888888888888,\"#fdca26\"],[1.0,\"#f0f921\"]],\"diverging\":[[0,\"#8e0152\"],[0.1,\"#c51b7d\"],[0.2,\"#de77ae\"],[0.3,\"#f1b6da\"],[0.4,\"#fde0ef\"],[0.5,\"#f7f7f7\"],[0.6,\"#e6f5d0\"],[0.7,\"#b8e186\"],[0.8,\"#7fbc41\"],[0.9,\"#4d9221\"],[1,\"#276419\"]]},\"xaxis\":{\"gridcolor\":\"white\",\"linecolor\":\"white\",\"ticks\":\"\",\"title\":{\"standoff\":15},\"zerolinecolor\":\"white\",\"automargin\":true,\"zerolinewidth\":2},\"yaxis\":{\"gridcolor\":\"white\",\"linecolor\":\"white\",\"ticks\":\"\",\"title\":{\"standoff\":15},\"zerolinecolor\":\"white\",\"automargin\":true,\"zerolinewidth\":2},\"scene\":{\"xaxis\":{\"backgroundcolor\":\"#E5ECF6\",\"gridcolor\":\"white\",\"linecolor\":\"white\",\"showbackground\":true,\"ticks\":\"\",\"zerolinecolor\":\"white\",\"gridwidth\":2},\"yaxis\":{\"backgroundcolor\":\"#E5ECF6\",\"gridcolor\":\"white\",\"linecolor\":\"white\",\"showbackground\":true,\"ticks\":\"\",\"zerolinecolor\":\"white\",\"gridwidth\":2},\"zaxis\":{\"backgroundcolor\":\"#E5ECF6\",\"gridcolor\":\"white\",\"linecolor\":\"white\",\"showbackground\":true,\"ticks\":\"\",\"zerolinecolor\":\"white\",\"gridwidth\":2}},\"shapedefaults\":{\"line\":{\"color\":\"#2a3f5f\"}},\"annotationdefaults\":{\"arrowcolor\":\"#2a3f5f\",\"arrowhead\":0,\"arrowwidth\":1},\"geo\":{\"bgcolor\":\"white\",\"landcolor\":\"#E5ECF6\",\"subunitcolor\":\"white\",\"showland\":true,\"showlakes\":true,\"lakecolor\":\"white\"},\"title\":{\"x\":0.05},\"mapbox\":{\"style\":\"light\"}}},\"geo\":{\"domain\":{\"x\":[0.0,1.0],\"y\":[0.0,1.0]},\"projection\":{\"type\":\"natural earth\"},\"center\":{}},\"coloraxis\":{\"colorbar\":{\"title\":{\"text\":\"Mag\"}},\"colorscale\":[[0.0,\"#0d0887\"],[0.1111111111111111,\"#46039f\"],[0.2222222222222222,\"#7201a8\"],[0.3333333333333333,\"#9c179e\"],[0.4444444444444444,\"#bd3786\"],[0.5555555555555556,\"#d8576b\"],[0.6666666666666666,\"#ed7953\"],[0.7777777777777778,\"#fb9f3a\"],[0.8888888888888888,\"#fdca26\"],[1.0,\"#f0f921\"]]},\"legend\":{\"tracegroupgap\":0},\"title\":{\"text\":\"Earthquake Hotspots 1900 to 2023\"}},                        {\"responsive\": true}                    ).then(function(){\n",
       "                            \n",
       "var gd = document.getElementById('f1cd0ec1-5ab8-48a5-8802-fca50aa55494');\n",
       "var x = new MutationObserver(function (mutations, observer) {{\n",
       "        var display = window.getComputedStyle(gd).display;\n",
       "        if (!display || display === 'none') {{\n",
       "            console.log([gd, 'removed!']);\n",
       "            Plotly.purge(gd);\n",
       "            observer.disconnect();\n",
       "        }}\n",
       "}});\n",
       "\n",
       "// Listen for the removal of the full notebook cells\n",
       "var notebookContainer = gd.closest('#notebook-container');\n",
       "if (notebookContainer) {{\n",
       "    x.observe(notebookContainer, {childList: true});\n",
       "}}\n",
       "\n",
       "// Listen for the clearing of the current output cell\n",
       "var outputEl = gd.closest('.output');\n",
       "if (outputEl) {{\n",
       "    x.observe(outputEl, {childList: true});\n",
       "}}\n",
       "\n",
       "                        })                };                });            </script>        </div>"
      ]
     },
     "metadata": {},
     "output_type": "display_data"
    }
   ],
   "source": [
    "import plotly.express as px\n",
    "import pandas as pd\n",
    "\n",
    "# Load earthquake data\n",
    "\n",
    "# Filter the data to include only earthquakes with magnitude greater than 7.5\n",
    "\n",
    "df_mag = Earthquakes[Earthquakes[\"Mag\"] > 7]\n",
    "\n",
    "# Create a Plotly Scattergeo map\n",
    "fig = px.scatter_geo(df_mag, lat='Latitude', lon='Longitude', \n",
    "                     color='Mag', hover_name='Place',\n",
    "                     size_max=10, projection='natural earth', title=\"Earthquake Hotspots 1900 to 2023\")\n",
    "\n",
    "# Show the map\n",
    "fig.show()"
   ]
  },
  {
   "cell_type": "code",
   "execution_count": 10,
   "id": "5155f1a1",
   "metadata": {
    "execution": {
     "iopub.execute_input": "2023-02-20T21:57:51.187548Z",
     "iopub.status.busy": "2023-02-20T21:57:51.186715Z",
     "iopub.status.idle": "2023-02-20T21:57:51.191914Z",
     "shell.execute_reply": "2023-02-20T21:57:51.191180Z"
    },
    "papermill": {
     "duration": 0.016601,
     "end_time": "2023-02-20T21:57:51.194145",
     "exception": false,
     "start_time": "2023-02-20T21:57:51.177544",
     "status": "completed"
    },
    "tags": []
   },
   "outputs": [],
   "source": [
    "# import folium\n",
    "\n",
    "# m = folium.Map([df['Lat'].mean(), df['Long'].mean()], #center of a map\n",
    "#                zoom_start=6, min_zoom = 5, max_zoom = 7) # max zoom is 18; restrict zooms not to scroll much\n",
    "               \n",
    "# folium.GeoJson(gr).add_to(m) # add gr - multipolygon of greek boundaries\n",
    "# folium.LatLngPopup().add_to(m) # add custom popup of lat/long of selected point\n",
    "\n",
    "# for i in range(0,25): # add markers of first 25 earthquakes of the dataset\n",
    "#     folium.Marker([df.iloc[i]['Lat'], df.iloc[i]['Long']], \n",
    "#                   popup=df.iloc[i]['Year']).add_to(m) # add popup to markers as an accident year\n",
    "# m"
   ]
  },
  {
   "cell_type": "code",
   "execution_count": 11,
   "id": "b23d01a5",
   "metadata": {
    "execution": {
     "iopub.execute_input": "2023-02-20T21:57:51.211200Z",
     "iopub.status.busy": "2023-02-20T21:57:51.210407Z",
     "iopub.status.idle": "2023-02-20T21:57:51.215137Z",
     "shell.execute_reply": "2023-02-20T21:57:51.214331Z"
    },
    "papermill": {
     "duration": 0.015879,
     "end_time": "2023-02-20T21:57:51.217420",
     "exception": false,
     "start_time": "2023-02-20T21:57:51.201541",
     "status": "completed"
    },
    "tags": []
   },
   "outputs": [],
   "source": [
    "# def get_color(magnitude):\n",
    "#     if magnitude < 3.0:\n",
    "#         return 'g'\n",
    "#     elif 3.0 <= magnitude < 5.0:\n",
    "#         return 'y'\n",
    "#     else:\n",
    "#         return 'r'"
   ]
  },
  {
   "cell_type": "code",
   "execution_count": 12,
   "id": "0291aad1",
   "metadata": {
    "execution": {
     "iopub.execute_input": "2023-02-20T21:57:51.234482Z",
     "iopub.status.busy": "2023-02-20T21:57:51.233932Z",
     "iopub.status.idle": "2023-02-20T21:57:51.237914Z",
     "shell.execute_reply": "2023-02-20T21:57:51.237173Z"
    },
    "papermill": {
     "duration": 0.015235,
     "end_time": "2023-02-20T21:57:51.239980",
     "exception": false,
     "start_time": "2023-02-20T21:57:51.224745",
     "status": "completed"
    },
    "tags": []
   },
   "outputs": [],
   "source": [
    "# !pip install --upgrade pip"
   ]
  },
  {
   "cell_type": "code",
   "execution_count": 13,
   "id": "25fb356a",
   "metadata": {
    "execution": {
     "iopub.execute_input": "2023-02-20T21:57:51.257550Z",
     "iopub.status.busy": "2023-02-20T21:57:51.256768Z",
     "iopub.status.idle": "2023-02-20T21:57:51.261704Z",
     "shell.execute_reply": "2023-02-20T21:57:51.260424Z"
    },
    "papermill": {
     "duration": 0.016463,
     "end_time": "2023-02-20T21:57:51.264310",
     "exception": false,
     "start_time": "2023-02-20T21:57:51.247847",
     "status": "completed"
    },
    "tags": []
   },
   "outputs": [],
   "source": [
    "# pip install cartopy"
   ]
  },
  {
   "cell_type": "code",
   "execution_count": 14,
   "id": "9cd4c79e",
   "metadata": {
    "execution": {
     "iopub.execute_input": "2023-02-20T21:57:51.281658Z",
     "iopub.status.busy": "2023-02-20T21:57:51.280957Z",
     "iopub.status.idle": "2023-02-20T21:57:51.285814Z",
     "shell.execute_reply": "2023-02-20T21:57:51.284590Z"
    },
    "papermill": {
     "duration": 0.016288,
     "end_time": "2023-02-20T21:57:51.288103",
     "exception": false,
     "start_time": "2023-02-20T21:57:51.271815",
     "status": "completed"
    },
    "tags": []
   },
   "outputs": [],
   "source": [
    "# import cartopy.crs as ccrs"
   ]
  },
  {
   "cell_type": "code",
   "execution_count": 15,
   "id": "ff5c2ebe",
   "metadata": {
    "execution": {
     "iopub.execute_input": "2023-02-20T21:57:51.305520Z",
     "iopub.status.busy": "2023-02-20T21:57:51.304383Z",
     "iopub.status.idle": "2023-02-20T21:57:51.309871Z",
     "shell.execute_reply": "2023-02-20T21:57:51.309091Z"
    },
    "papermill": {
     "duration": 0.016452,
     "end_time": "2023-02-20T21:57:51.312102",
     "exception": false,
     "start_time": "2023-02-20T21:57:51.295650",
     "status": "completed"
    },
    "tags": []
   },
   "outputs": [],
   "source": [
    "# plotting data on map\n",
    "\n",
    "# ax = plt.axes(projection = ccrs.PlateCarree())\n",
    "# ax.coastlines(resolution='50m')\n",
    "# ax.stock_img()\n",
    "\n",
    "# for i in range(len(mag)):\n",
    "#     color = get_color(mag[i])\n",
    "#     plt.scatter(lons[i], lats[i], s=mag[i]*10, c=color)\n",
    "\n",
    "# plt.title('Earthquakes recorded from 1920 to 2023 2020')\n",
    "# print(plt.show())"
   ]
  }
 ],
 "metadata": {
  "kernelspec": {
   "display_name": "Python 3",
   "language": "python",
   "name": "python3"
  },
  "language_info": {
   "codemirror_mode": {
    "name": "ipython",
    "version": 3
   },
   "file_extension": ".py",
   "mimetype": "text/x-python",
   "name": "python",
   "nbconvert_exporter": "python",
   "pygments_lexer": "ipython3",
   "version": "3.7.12"
  },
  "papermill": {
   "default_parameters": {},
   "duration": 12.592505,
   "end_time": "2023-02-20T21:57:52.141985",
   "environment_variables": {},
   "exception": null,
   "input_path": "__notebook__.ipynb",
   "output_path": "__notebook__.ipynb",
   "parameters": {},
   "start_time": "2023-02-20T21:57:39.549480",
   "version": "2.3.4"
  }
 },
 "nbformat": 4,
 "nbformat_minor": 5
}
